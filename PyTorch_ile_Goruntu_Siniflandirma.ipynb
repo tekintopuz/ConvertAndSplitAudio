{
  "nbformat": 4,
  "nbformat_minor": 0,
  "metadata": {
    "colab": {
      "name": "PyTorch ile Goruntu Siniflandirma.ipynb",
      "provenance": [],
      "toc_visible": true
    },
    "kernelspec": {
      "name": "python3",
      "display_name": "Python 3"
    },
    "accelerator": "GPU",
    "widgets": {
      "application/vnd.jupyter.widget-state+json": {
        "244f0761113148f6837ddcae5c3ff43d": {
          "model_module": "@jupyter-widgets/controls",
          "model_name": "HBoxModel",
          "state": {
            "_view_name": "HBoxView",
            "_dom_classes": [],
            "_model_name": "HBoxModel",
            "_view_module": "@jupyter-widgets/controls",
            "_model_module_version": "1.5.0",
            "_view_count": null,
            "_view_module_version": "1.5.0",
            "box_style": "",
            "layout": "IPY_MODEL_f28a0f68189e4be28e5e1beb0d3c1d46",
            "_model_module": "@jupyter-widgets/controls",
            "children": [
              "IPY_MODEL_a24f745f7e544d31ac53595fb8d67bb9",
              "IPY_MODEL_3a381d5d99934d69b34ee381209854e9"
            ]
          },
          "model_module_version": "1.5.0"
        },
        "f28a0f68189e4be28e5e1beb0d3c1d46": {
          "model_module": "@jupyter-widgets/base",
          "model_name": "LayoutModel",
          "state": {
            "_view_name": "LayoutView",
            "grid_template_rows": null,
            "right": null,
            "justify_content": null,
            "_view_module": "@jupyter-widgets/base",
            "overflow": null,
            "_model_module_version": "1.2.0",
            "_view_count": null,
            "flex_flow": null,
            "width": null,
            "min_width": null,
            "border": null,
            "align_items": null,
            "bottom": null,
            "_model_module": "@jupyter-widgets/base",
            "top": null,
            "grid_column": null,
            "overflow_y": null,
            "overflow_x": null,
            "grid_auto_flow": null,
            "grid_area": null,
            "grid_template_columns": null,
            "flex": null,
            "_model_name": "LayoutModel",
            "justify_items": null,
            "grid_row": null,
            "max_height": null,
            "align_content": null,
            "visibility": null,
            "align_self": null,
            "height": null,
            "min_height": null,
            "padding": null,
            "grid_auto_rows": null,
            "grid_gap": null,
            "max_width": null,
            "order": null,
            "_view_module_version": "1.2.0",
            "grid_template_areas": null,
            "object_position": null,
            "object_fit": null,
            "grid_auto_columns": null,
            "margin": null,
            "display": null,
            "left": null
          },
          "model_module_version": "1.2.0"
        },
        "a24f745f7e544d31ac53595fb8d67bb9": {
          "model_module": "@jupyter-widgets/controls",
          "model_name": "IntProgressModel",
          "state": {
            "_view_name": "ProgressView",
            "style": "IPY_MODEL_646c399551cb4b379a422c13f988cf12",
            "_dom_classes": [],
            "description": "",
            "_model_name": "IntProgressModel",
            "bar_style": "info",
            "max": 1,
            "_view_module": "@jupyter-widgets/controls",
            "_model_module_version": "1.5.0",
            "value": 1,
            "_view_count": null,
            "_view_module_version": "1.5.0",
            "orientation": "horizontal",
            "min": 0,
            "description_tooltip": null,
            "_model_module": "@jupyter-widgets/controls",
            "layout": "IPY_MODEL_34f3f6856a7c458b9a77b4b2f048a29e"
          },
          "model_module_version": "1.5.0"
        },
        "3a381d5d99934d69b34ee381209854e9": {
          "model_module": "@jupyter-widgets/controls",
          "model_name": "HTMLModel",
          "state": {
            "_view_name": "HTMLView",
            "style": "IPY_MODEL_93aff7900537455f8b14530fe441080c",
            "_dom_classes": [],
            "description": "",
            "_model_name": "HTMLModel",
            "placeholder": "​",
            "_view_module": "@jupyter-widgets/controls",
            "_model_module_version": "1.5.0",
            "value": " 9920512/? [00:20&lt;00:00, 1112702.47it/s]",
            "_view_count": null,
            "_view_module_version": "1.5.0",
            "description_tooltip": null,
            "_model_module": "@jupyter-widgets/controls",
            "layout": "IPY_MODEL_3c2534cec96544eeb6bc15940dd8d0cc"
          },
          "model_module_version": "1.5.0"
        },
        "646c399551cb4b379a422c13f988cf12": {
          "model_module": "@jupyter-widgets/controls",
          "model_name": "ProgressStyleModel",
          "state": {
            "_view_name": "StyleView",
            "_model_name": "ProgressStyleModel",
            "description_width": "initial",
            "_view_module": "@jupyter-widgets/base",
            "_model_module_version": "1.5.0",
            "_view_count": null,
            "_view_module_version": "1.2.0",
            "bar_color": null,
            "_model_module": "@jupyter-widgets/controls"
          },
          "model_module_version": "1.5.0"
        },
        "34f3f6856a7c458b9a77b4b2f048a29e": {
          "model_module": "@jupyter-widgets/base",
          "model_name": "LayoutModel",
          "state": {
            "_view_name": "LayoutView",
            "grid_template_rows": null,
            "right": null,
            "justify_content": null,
            "_view_module": "@jupyter-widgets/base",
            "overflow": null,
            "_model_module_version": "1.2.0",
            "_view_count": null,
            "flex_flow": null,
            "width": null,
            "min_width": null,
            "border": null,
            "align_items": null,
            "bottom": null,
            "_model_module": "@jupyter-widgets/base",
            "top": null,
            "grid_column": null,
            "overflow_y": null,
            "overflow_x": null,
            "grid_auto_flow": null,
            "grid_area": null,
            "grid_template_columns": null,
            "flex": null,
            "_model_name": "LayoutModel",
            "justify_items": null,
            "grid_row": null,
            "max_height": null,
            "align_content": null,
            "visibility": null,
            "align_self": null,
            "height": null,
            "min_height": null,
            "padding": null,
            "grid_auto_rows": null,
            "grid_gap": null,
            "max_width": null,
            "order": null,
            "_view_module_version": "1.2.0",
            "grid_template_areas": null,
            "object_position": null,
            "object_fit": null,
            "grid_auto_columns": null,
            "margin": null,
            "display": null,
            "left": null
          },
          "model_module_version": "1.2.0"
        },
        "93aff7900537455f8b14530fe441080c": {
          "model_module": "@jupyter-widgets/controls",
          "model_name": "DescriptionStyleModel",
          "state": {
            "_view_name": "StyleView",
            "_model_name": "DescriptionStyleModel",
            "description_width": "",
            "_view_module": "@jupyter-widgets/base",
            "_model_module_version": "1.5.0",
            "_view_count": null,
            "_view_module_version": "1.2.0",
            "_model_module": "@jupyter-widgets/controls"
          },
          "model_module_version": "1.5.0"
        },
        "3c2534cec96544eeb6bc15940dd8d0cc": {
          "model_module": "@jupyter-widgets/base",
          "model_name": "LayoutModel",
          "state": {
            "_view_name": "LayoutView",
            "grid_template_rows": null,
            "right": null,
            "justify_content": null,
            "_view_module": "@jupyter-widgets/base",
            "overflow": null,
            "_model_module_version": "1.2.0",
            "_view_count": null,
            "flex_flow": null,
            "width": null,
            "min_width": null,
            "border": null,
            "align_items": null,
            "bottom": null,
            "_model_module": "@jupyter-widgets/base",
            "top": null,
            "grid_column": null,
            "overflow_y": null,
            "overflow_x": null,
            "grid_auto_flow": null,
            "grid_area": null,
            "grid_template_columns": null,
            "flex": null,
            "_model_name": "LayoutModel",
            "justify_items": null,
            "grid_row": null,
            "max_height": null,
            "align_content": null,
            "visibility": null,
            "align_self": null,
            "height": null,
            "min_height": null,
            "padding": null,
            "grid_auto_rows": null,
            "grid_gap": null,
            "max_width": null,
            "order": null,
            "_view_module_version": "1.2.0",
            "grid_template_areas": null,
            "object_position": null,
            "object_fit": null,
            "grid_auto_columns": null,
            "margin": null,
            "display": null,
            "left": null
          },
          "model_module_version": "1.2.0"
        },
        "d37d1a1e961d46a2b12689bdd04ca0f9": {
          "model_module": "@jupyter-widgets/controls",
          "model_name": "HBoxModel",
          "state": {
            "_view_name": "HBoxView",
            "_dom_classes": [],
            "_model_name": "HBoxModel",
            "_view_module": "@jupyter-widgets/controls",
            "_model_module_version": "1.5.0",
            "_view_count": null,
            "_view_module_version": "1.5.0",
            "box_style": "",
            "layout": "IPY_MODEL_1d7f322aabe0465baea1035057dd1af5",
            "_model_module": "@jupyter-widgets/controls",
            "children": [
              "IPY_MODEL_b165334a320e408ea32e888c2453153d",
              "IPY_MODEL_38b922d2f12b4408a35a4c1c4b581fc9"
            ]
          },
          "model_module_version": "1.5.0"
        },
        "1d7f322aabe0465baea1035057dd1af5": {
          "model_module": "@jupyter-widgets/base",
          "model_name": "LayoutModel",
          "state": {
            "_view_name": "LayoutView",
            "grid_template_rows": null,
            "right": null,
            "justify_content": null,
            "_view_module": "@jupyter-widgets/base",
            "overflow": null,
            "_model_module_version": "1.2.0",
            "_view_count": null,
            "flex_flow": null,
            "width": null,
            "min_width": null,
            "border": null,
            "align_items": null,
            "bottom": null,
            "_model_module": "@jupyter-widgets/base",
            "top": null,
            "grid_column": null,
            "overflow_y": null,
            "overflow_x": null,
            "grid_auto_flow": null,
            "grid_area": null,
            "grid_template_columns": null,
            "flex": null,
            "_model_name": "LayoutModel",
            "justify_items": null,
            "grid_row": null,
            "max_height": null,
            "align_content": null,
            "visibility": null,
            "align_self": null,
            "height": null,
            "min_height": null,
            "padding": null,
            "grid_auto_rows": null,
            "grid_gap": null,
            "max_width": null,
            "order": null,
            "_view_module_version": "1.2.0",
            "grid_template_areas": null,
            "object_position": null,
            "object_fit": null,
            "grid_auto_columns": null,
            "margin": null,
            "display": null,
            "left": null
          },
          "model_module_version": "1.2.0"
        },
        "b165334a320e408ea32e888c2453153d": {
          "model_module": "@jupyter-widgets/controls",
          "model_name": "IntProgressModel",
          "state": {
            "_view_name": "ProgressView",
            "style": "IPY_MODEL_dccb34a7e0954599a09e992d951990a8",
            "_dom_classes": [],
            "description": "",
            "_model_name": "IntProgressModel",
            "bar_style": "success",
            "max": 1,
            "_view_module": "@jupyter-widgets/controls",
            "_model_module_version": "1.5.0",
            "value": 1,
            "_view_count": null,
            "_view_module_version": "1.5.0",
            "orientation": "horizontal",
            "min": 0,
            "description_tooltip": null,
            "_model_module": "@jupyter-widgets/controls",
            "layout": "IPY_MODEL_64dd023f841c4952a292671d0d4a7f51"
          },
          "model_module_version": "1.5.0"
        },
        "38b922d2f12b4408a35a4c1c4b581fc9": {
          "model_module": "@jupyter-widgets/controls",
          "model_name": "HTMLModel",
          "state": {
            "_view_name": "HTMLView",
            "style": "IPY_MODEL_9748d3e77a3249ccaefb1a8fb0d7b69f",
            "_dom_classes": [],
            "description": "",
            "_model_name": "HTMLModel",
            "placeholder": "​",
            "_view_module": "@jupyter-widgets/controls",
            "_model_module_version": "1.5.0",
            "value": " 32768/? [00:00&lt;00:00, 97437.88it/s]",
            "_view_count": null,
            "_view_module_version": "1.5.0",
            "description_tooltip": null,
            "_model_module": "@jupyter-widgets/controls",
            "layout": "IPY_MODEL_1a41d135b9b04007a3396b1b997a7d92"
          },
          "model_module_version": "1.5.0"
        },
        "dccb34a7e0954599a09e992d951990a8": {
          "model_module": "@jupyter-widgets/controls",
          "model_name": "ProgressStyleModel",
          "state": {
            "_view_name": "StyleView",
            "_model_name": "ProgressStyleModel",
            "description_width": "initial",
            "_view_module": "@jupyter-widgets/base",
            "_model_module_version": "1.5.0",
            "_view_count": null,
            "_view_module_version": "1.2.0",
            "bar_color": null,
            "_model_module": "@jupyter-widgets/controls"
          },
          "model_module_version": "1.5.0"
        },
        "64dd023f841c4952a292671d0d4a7f51": {
          "model_module": "@jupyter-widgets/base",
          "model_name": "LayoutModel",
          "state": {
            "_view_name": "LayoutView",
            "grid_template_rows": null,
            "right": null,
            "justify_content": null,
            "_view_module": "@jupyter-widgets/base",
            "overflow": null,
            "_model_module_version": "1.2.0",
            "_view_count": null,
            "flex_flow": null,
            "width": null,
            "min_width": null,
            "border": null,
            "align_items": null,
            "bottom": null,
            "_model_module": "@jupyter-widgets/base",
            "top": null,
            "grid_column": null,
            "overflow_y": null,
            "overflow_x": null,
            "grid_auto_flow": null,
            "grid_area": null,
            "grid_template_columns": null,
            "flex": null,
            "_model_name": "LayoutModel",
            "justify_items": null,
            "grid_row": null,
            "max_height": null,
            "align_content": null,
            "visibility": null,
            "align_self": null,
            "height": null,
            "min_height": null,
            "padding": null,
            "grid_auto_rows": null,
            "grid_gap": null,
            "max_width": null,
            "order": null,
            "_view_module_version": "1.2.0",
            "grid_template_areas": null,
            "object_position": null,
            "object_fit": null,
            "grid_auto_columns": null,
            "margin": null,
            "display": null,
            "left": null
          },
          "model_module_version": "1.2.0"
        },
        "9748d3e77a3249ccaefb1a8fb0d7b69f": {
          "model_module": "@jupyter-widgets/controls",
          "model_name": "DescriptionStyleModel",
          "state": {
            "_view_name": "StyleView",
            "_model_name": "DescriptionStyleModel",
            "description_width": "",
            "_view_module": "@jupyter-widgets/base",
            "_model_module_version": "1.5.0",
            "_view_count": null,
            "_view_module_version": "1.2.0",
            "_model_module": "@jupyter-widgets/controls"
          },
          "model_module_version": "1.5.0"
        },
        "1a41d135b9b04007a3396b1b997a7d92": {
          "model_module": "@jupyter-widgets/base",
          "model_name": "LayoutModel",
          "state": {
            "_view_name": "LayoutView",
            "grid_template_rows": null,
            "right": null,
            "justify_content": null,
            "_view_module": "@jupyter-widgets/base",
            "overflow": null,
            "_model_module_version": "1.2.0",
            "_view_count": null,
            "flex_flow": null,
            "width": null,
            "min_width": null,
            "border": null,
            "align_items": null,
            "bottom": null,
            "_model_module": "@jupyter-widgets/base",
            "top": null,
            "grid_column": null,
            "overflow_y": null,
            "overflow_x": null,
            "grid_auto_flow": null,
            "grid_area": null,
            "grid_template_columns": null,
            "flex": null,
            "_model_name": "LayoutModel",
            "justify_items": null,
            "grid_row": null,
            "max_height": null,
            "align_content": null,
            "visibility": null,
            "align_self": null,
            "height": null,
            "min_height": null,
            "padding": null,
            "grid_auto_rows": null,
            "grid_gap": null,
            "max_width": null,
            "order": null,
            "_view_module_version": "1.2.0",
            "grid_template_areas": null,
            "object_position": null,
            "object_fit": null,
            "grid_auto_columns": null,
            "margin": null,
            "display": null,
            "left": null
          },
          "model_module_version": "1.2.0"
        },
        "ad9caaa2819c425ba2825e5569ac2b52": {
          "model_module": "@jupyter-widgets/controls",
          "model_name": "HBoxModel",
          "state": {
            "_view_name": "HBoxView",
            "_dom_classes": [],
            "_model_name": "HBoxModel",
            "_view_module": "@jupyter-widgets/controls",
            "_model_module_version": "1.5.0",
            "_view_count": null,
            "_view_module_version": "1.5.0",
            "box_style": "",
            "layout": "IPY_MODEL_27c6a141240d4351b16147d8f781663e",
            "_model_module": "@jupyter-widgets/controls",
            "children": [
              "IPY_MODEL_f078c8341e38488e8c7114d90154f6c7",
              "IPY_MODEL_f44162e10673407897610d335f99a33b"
            ]
          },
          "model_module_version": "1.5.0"
        },
        "27c6a141240d4351b16147d8f781663e": {
          "model_module": "@jupyter-widgets/base",
          "model_name": "LayoutModel",
          "state": {
            "_view_name": "LayoutView",
            "grid_template_rows": null,
            "right": null,
            "justify_content": null,
            "_view_module": "@jupyter-widgets/base",
            "overflow": null,
            "_model_module_version": "1.2.0",
            "_view_count": null,
            "flex_flow": null,
            "width": null,
            "min_width": null,
            "border": null,
            "align_items": null,
            "bottom": null,
            "_model_module": "@jupyter-widgets/base",
            "top": null,
            "grid_column": null,
            "overflow_y": null,
            "overflow_x": null,
            "grid_auto_flow": null,
            "grid_area": null,
            "grid_template_columns": null,
            "flex": null,
            "_model_name": "LayoutModel",
            "justify_items": null,
            "grid_row": null,
            "max_height": null,
            "align_content": null,
            "visibility": null,
            "align_self": null,
            "height": null,
            "min_height": null,
            "padding": null,
            "grid_auto_rows": null,
            "grid_gap": null,
            "max_width": null,
            "order": null,
            "_view_module_version": "1.2.0",
            "grid_template_areas": null,
            "object_position": null,
            "object_fit": null,
            "grid_auto_columns": null,
            "margin": null,
            "display": null,
            "left": null
          },
          "model_module_version": "1.2.0"
        },
        "f078c8341e38488e8c7114d90154f6c7": {
          "model_module": "@jupyter-widgets/controls",
          "model_name": "IntProgressModel",
          "state": {
            "_view_name": "ProgressView",
            "style": "IPY_MODEL_37dc588c153f4b4caa5cea35a5f08587",
            "_dom_classes": [],
            "description": "",
            "_model_name": "IntProgressModel",
            "bar_style": "info",
            "max": 1,
            "_view_module": "@jupyter-widgets/controls",
            "_model_module_version": "1.5.0",
            "value": 1,
            "_view_count": null,
            "_view_module_version": "1.5.0",
            "orientation": "horizontal",
            "min": 0,
            "description_tooltip": null,
            "_model_module": "@jupyter-widgets/controls",
            "layout": "IPY_MODEL_b12481187f02443391be8e1ba4a7138b"
          },
          "model_module_version": "1.5.0"
        },
        "f44162e10673407897610d335f99a33b": {
          "model_module": "@jupyter-widgets/controls",
          "model_name": "HTMLModel",
          "state": {
            "_view_name": "HTMLView",
            "style": "IPY_MODEL_2d6962b613424ef4b8b8990ef79eb376",
            "_dom_classes": [],
            "description": "",
            "_model_name": "HTMLModel",
            "placeholder": "​",
            "_view_module": "@jupyter-widgets/controls",
            "_model_module_version": "1.5.0",
            "value": " 1654784/? [00:18&lt;00:00, 578277.26it/s]",
            "_view_count": null,
            "_view_module_version": "1.5.0",
            "description_tooltip": null,
            "_model_module": "@jupyter-widgets/controls",
            "layout": "IPY_MODEL_ba7f05fd46d24b86a132d869143dede2"
          },
          "model_module_version": "1.5.0"
        },
        "37dc588c153f4b4caa5cea35a5f08587": {
          "model_module": "@jupyter-widgets/controls",
          "model_name": "ProgressStyleModel",
          "state": {
            "_view_name": "StyleView",
            "_model_name": "ProgressStyleModel",
            "description_width": "initial",
            "_view_module": "@jupyter-widgets/base",
            "_model_module_version": "1.5.0",
            "_view_count": null,
            "_view_module_version": "1.2.0",
            "bar_color": null,
            "_model_module": "@jupyter-widgets/controls"
          },
          "model_module_version": "1.5.0"
        },
        "b12481187f02443391be8e1ba4a7138b": {
          "model_module": "@jupyter-widgets/base",
          "model_name": "LayoutModel",
          "state": {
            "_view_name": "LayoutView",
            "grid_template_rows": null,
            "right": null,
            "justify_content": null,
            "_view_module": "@jupyter-widgets/base",
            "overflow": null,
            "_model_module_version": "1.2.0",
            "_view_count": null,
            "flex_flow": null,
            "width": null,
            "min_width": null,
            "border": null,
            "align_items": null,
            "bottom": null,
            "_model_module": "@jupyter-widgets/base",
            "top": null,
            "grid_column": null,
            "overflow_y": null,
            "overflow_x": null,
            "grid_auto_flow": null,
            "grid_area": null,
            "grid_template_columns": null,
            "flex": null,
            "_model_name": "LayoutModel",
            "justify_items": null,
            "grid_row": null,
            "max_height": null,
            "align_content": null,
            "visibility": null,
            "align_self": null,
            "height": null,
            "min_height": null,
            "padding": null,
            "grid_auto_rows": null,
            "grid_gap": null,
            "max_width": null,
            "order": null,
            "_view_module_version": "1.2.0",
            "grid_template_areas": null,
            "object_position": null,
            "object_fit": null,
            "grid_auto_columns": null,
            "margin": null,
            "display": null,
            "left": null
          },
          "model_module_version": "1.2.0"
        },
        "2d6962b613424ef4b8b8990ef79eb376": {
          "model_module": "@jupyter-widgets/controls",
          "model_name": "DescriptionStyleModel",
          "state": {
            "_view_name": "StyleView",
            "_model_name": "DescriptionStyleModel",
            "description_width": "",
            "_view_module": "@jupyter-widgets/base",
            "_model_module_version": "1.5.0",
            "_view_count": null,
            "_view_module_version": "1.2.0",
            "_model_module": "@jupyter-widgets/controls"
          },
          "model_module_version": "1.5.0"
        },
        "ba7f05fd46d24b86a132d869143dede2": {
          "model_module": "@jupyter-widgets/base",
          "model_name": "LayoutModel",
          "state": {
            "_view_name": "LayoutView",
            "grid_template_rows": null,
            "right": null,
            "justify_content": null,
            "_view_module": "@jupyter-widgets/base",
            "overflow": null,
            "_model_module_version": "1.2.0",
            "_view_count": null,
            "flex_flow": null,
            "width": null,
            "min_width": null,
            "border": null,
            "align_items": null,
            "bottom": null,
            "_model_module": "@jupyter-widgets/base",
            "top": null,
            "grid_column": null,
            "overflow_y": null,
            "overflow_x": null,
            "grid_auto_flow": null,
            "grid_area": null,
            "grid_template_columns": null,
            "flex": null,
            "_model_name": "LayoutModel",
            "justify_items": null,
            "grid_row": null,
            "max_height": null,
            "align_content": null,
            "visibility": null,
            "align_self": null,
            "height": null,
            "min_height": null,
            "padding": null,
            "grid_auto_rows": null,
            "grid_gap": null,
            "max_width": null,
            "order": null,
            "_view_module_version": "1.2.0",
            "grid_template_areas": null,
            "object_position": null,
            "object_fit": null,
            "grid_auto_columns": null,
            "margin": null,
            "display": null,
            "left": null
          },
          "model_module_version": "1.2.0"
        },
        "12037e928b564fcbb8c1544f22bc7167": {
          "model_module": "@jupyter-widgets/controls",
          "model_name": "HBoxModel",
          "state": {
            "_view_name": "HBoxView",
            "_dom_classes": [],
            "_model_name": "HBoxModel",
            "_view_module": "@jupyter-widgets/controls",
            "_model_module_version": "1.5.0",
            "_view_count": null,
            "_view_module_version": "1.5.0",
            "box_style": "",
            "layout": "IPY_MODEL_fa62a32dbca64c598090397d18fb82eb",
            "_model_module": "@jupyter-widgets/controls",
            "children": [
              "IPY_MODEL_c9aa160061304c5c84b4d04958e126d8",
              "IPY_MODEL_c516c4bfd34a4e709bb1aed7015ceecd"
            ]
          },
          "model_module_version": "1.5.0"
        },
        "fa62a32dbca64c598090397d18fb82eb": {
          "model_module": "@jupyter-widgets/base",
          "model_name": "LayoutModel",
          "state": {
            "_view_name": "LayoutView",
            "grid_template_rows": null,
            "right": null,
            "justify_content": null,
            "_view_module": "@jupyter-widgets/base",
            "overflow": null,
            "_model_module_version": "1.2.0",
            "_view_count": null,
            "flex_flow": null,
            "width": null,
            "min_width": null,
            "border": null,
            "align_items": null,
            "bottom": null,
            "_model_module": "@jupyter-widgets/base",
            "top": null,
            "grid_column": null,
            "overflow_y": null,
            "overflow_x": null,
            "grid_auto_flow": null,
            "grid_area": null,
            "grid_template_columns": null,
            "flex": null,
            "_model_name": "LayoutModel",
            "justify_items": null,
            "grid_row": null,
            "max_height": null,
            "align_content": null,
            "visibility": null,
            "align_self": null,
            "height": null,
            "min_height": null,
            "padding": null,
            "grid_auto_rows": null,
            "grid_gap": null,
            "max_width": null,
            "order": null,
            "_view_module_version": "1.2.0",
            "grid_template_areas": null,
            "object_position": null,
            "object_fit": null,
            "grid_auto_columns": null,
            "margin": null,
            "display": null,
            "left": null
          },
          "model_module_version": "1.2.0"
        },
        "c9aa160061304c5c84b4d04958e126d8": {
          "model_module": "@jupyter-widgets/controls",
          "model_name": "IntProgressModel",
          "state": {
            "_view_name": "ProgressView",
            "style": "IPY_MODEL_d708e12e1ae74ac3a3c426dac90aea0c",
            "_dom_classes": [],
            "description": "  0%",
            "_model_name": "IntProgressModel",
            "bar_style": "info",
            "max": 1,
            "_view_module": "@jupyter-widgets/controls",
            "_model_module_version": "1.5.0",
            "value": 0,
            "_view_count": null,
            "_view_module_version": "1.5.0",
            "orientation": "horizontal",
            "min": 0,
            "description_tooltip": null,
            "_model_module": "@jupyter-widgets/controls",
            "layout": "IPY_MODEL_1ac99ed6564f474485b07695d89522d1"
          },
          "model_module_version": "1.5.0"
        },
        "c516c4bfd34a4e709bb1aed7015ceecd": {
          "model_module": "@jupyter-widgets/controls",
          "model_name": "HTMLModel",
          "state": {
            "_view_name": "HTMLView",
            "style": "IPY_MODEL_b751768d0dc74ef3b61e94a35dd27ce1",
            "_dom_classes": [],
            "description": "",
            "_model_name": "HTMLModel",
            "placeholder": "​",
            "_view_module": "@jupyter-widgets/controls",
            "_model_module_version": "1.5.0",
            "value": " 0/4542 [00:00&lt;?, ?it/s]",
            "_view_count": null,
            "_view_module_version": "1.5.0",
            "description_tooltip": null,
            "_model_module": "@jupyter-widgets/controls",
            "layout": "IPY_MODEL_e46bf8c3aac645e3b1b41ed1083b6014"
          },
          "model_module_version": "1.5.0"
        },
        "d708e12e1ae74ac3a3c426dac90aea0c": {
          "model_module": "@jupyter-widgets/controls",
          "model_name": "ProgressStyleModel",
          "state": {
            "_view_name": "StyleView",
            "_model_name": "ProgressStyleModel",
            "description_width": "initial",
            "_view_module": "@jupyter-widgets/base",
            "_model_module_version": "1.5.0",
            "_view_count": null,
            "_view_module_version": "1.2.0",
            "bar_color": null,
            "_model_module": "@jupyter-widgets/controls"
          },
          "model_module_version": "1.5.0"
        },
        "1ac99ed6564f474485b07695d89522d1": {
          "model_module": "@jupyter-widgets/base",
          "model_name": "LayoutModel",
          "state": {
            "_view_name": "LayoutView",
            "grid_template_rows": null,
            "right": null,
            "justify_content": null,
            "_view_module": "@jupyter-widgets/base",
            "overflow": null,
            "_model_module_version": "1.2.0",
            "_view_count": null,
            "flex_flow": null,
            "width": null,
            "min_width": null,
            "border": null,
            "align_items": null,
            "bottom": null,
            "_model_module": "@jupyter-widgets/base",
            "top": null,
            "grid_column": null,
            "overflow_y": null,
            "overflow_x": null,
            "grid_auto_flow": null,
            "grid_area": null,
            "grid_template_columns": null,
            "flex": null,
            "_model_name": "LayoutModel",
            "justify_items": null,
            "grid_row": null,
            "max_height": null,
            "align_content": null,
            "visibility": null,
            "align_self": null,
            "height": null,
            "min_height": null,
            "padding": null,
            "grid_auto_rows": null,
            "grid_gap": null,
            "max_width": null,
            "order": null,
            "_view_module_version": "1.2.0",
            "grid_template_areas": null,
            "object_position": null,
            "object_fit": null,
            "grid_auto_columns": null,
            "margin": null,
            "display": null,
            "left": null
          },
          "model_module_version": "1.2.0"
        },
        "b751768d0dc74ef3b61e94a35dd27ce1": {
          "model_module": "@jupyter-widgets/controls",
          "model_name": "DescriptionStyleModel",
          "state": {
            "_view_name": "StyleView",
            "_model_name": "DescriptionStyleModel",
            "description_width": "",
            "_view_module": "@jupyter-widgets/base",
            "_model_module_version": "1.5.0",
            "_view_count": null,
            "_view_module_version": "1.2.0",
            "_model_module": "@jupyter-widgets/controls"
          },
          "model_module_version": "1.5.0"
        },
        "e46bf8c3aac645e3b1b41ed1083b6014": {
          "model_module": "@jupyter-widgets/base",
          "model_name": "LayoutModel",
          "state": {
            "_view_name": "LayoutView",
            "grid_template_rows": null,
            "right": null,
            "justify_content": null,
            "_view_module": "@jupyter-widgets/base",
            "overflow": null,
            "_model_module_version": "1.2.0",
            "_view_count": null,
            "flex_flow": null,
            "width": null,
            "min_width": null,
            "border": null,
            "align_items": null,
            "bottom": null,
            "_model_module": "@jupyter-widgets/base",
            "top": null,
            "grid_column": null,
            "overflow_y": null,
            "overflow_x": null,
            "grid_auto_flow": null,
            "grid_area": null,
            "grid_template_columns": null,
            "flex": null,
            "_model_name": "LayoutModel",
            "justify_items": null,
            "grid_row": null,
            "max_height": null,
            "align_content": null,
            "visibility": null,
            "align_self": null,
            "height": null,
            "min_height": null,
            "padding": null,
            "grid_auto_rows": null,
            "grid_gap": null,
            "max_width": null,
            "order": null,
            "_view_module_version": "1.2.0",
            "grid_template_areas": null,
            "object_position": null,
            "object_fit": null,
            "grid_auto_columns": null,
            "margin": null,
            "display": null,
            "left": null
          },
          "model_module_version": "1.2.0"
        }
      }
    }
  },
  "cells": [
    {
      "cell_type": "markdown",
      "metadata": {
        "id": "ut1uDoXJzCTu"
      },
      "source": [
        "# PyTorch ile Görüntü Sınıflandırma  \n",
        "<img src=\"https://upload.wikimedia.org/wikipedia/commons/9/96/Pytorch_logo.png\" width=30% />\n",
        "\n",
        "Geçtiğimiz hafta içinde [People In Data](https://www.facebook.com/peopleindata/) ve [Facebook DevC Stockholm](https://www.facebook.com/groups/devCstockholm/) ortaklığıyla düzenlenen etkinlikte **Udacity AI** mentorlerinden Pranjal ile tanışmış oldum ve harika bir webinar gerçekleştirdi. Tabi hem Pytorch'a ısınmam için hem de bu sırada meraklılarına faydalı olması adına bu notebook'u hazırlamaya karar verdim. Destek veren [Pranjal](https://www.linkedin.com/in/pranjall/?originalSubdomain=in)'a ve bu etkinlik hakkında beni haberdar ettiği için [Zümrüt](https://www.linkedin.com/in/zumrut-muftuoglu-98704537/)e teşekkürler.\n",
        "\n",
        "\n",
        "Bu Colab Notebookda, Evrişimli Sinir Ağları temellerini kullanarak basit bir görüntü sınıflandırma çalışması uygularken [PyTorch Ekosistemindeki](https://pytorch.org/ecosystem/ \"Click to visit the PyTorch Ecosystem homepage\") yeniliklerden de faydalanacağız.\n",
        "\n",
        "\n",
        "\n",
        "\n",
        "<br/>Not:\n",
        "https://github.com/pranjalchaubey/Deep-Learning-Notes\n",
        ""
      ]
    },
    {
      "cell_type": "markdown",
      "metadata": {
        "id": "rFhLAYud0CQK"
      },
      "source": [
        "### 1. Colab Üzerinde Veri Setini Veri Setlerini Kullanma\n",
        "\n",
        "Herhangi bir Makine Öğrenmesi / Veri Bilimi probleminde, ilk adım daima veri setini elde etmektir.\n",
        "\n",
        "Bizim durumumuzda, başlangıçta basit [MNIST Veri Kümesini](https://en.wikipedia.org/wiki/MNIST_database) kullanacağız. MNIST yapay zekâ ve makine öğrenmesi çalışacak kişiler için 'Merhaba Dünya!' gibi bir başlangıçtır. [Bu veri kümesi size 90'ların sonlarından sesleniyor!](http://yann.lecun.com/exdb/mnist)\n",
        "\n",
        "![90s](https://media.giphy.com/media/ggKMDmjkGZ5ZK/giphy.gif)\n",
        "\n",
        "_\"MNIST'in resmi web sitesinden 60.000 örneklik bir eğitim seti ve 10.000 örneklik bir test seti şeklinde erişebiliyorsunuz. NIST tarafından sağlanan daha büyük bir kümenin bir alt kümesidir. Normalize edilmiş, ortalanmış ve aynı boyuta sahip el yazısı rakam görüntülerini barındırmaktadır. Ön işleme ve biçimlendirme için minimum çaba harcayarak, gerçek dünya verileri üzerinde öğrenme teknikleri ve örüntü tanıma yöntemleri denemek isteyen insanlar için iyi bir veri kümesidir.\"_\n",
        "\n",
        "\n",
        "Merak ediyor olabilirsiniz, bu veri kümesini Colab Çalışma Alanımızda nasıl edinebilirsiniz? Önce bilgisayarınıza ya da Drive klasörünüze mi indirmeniz gerekir? Verilere nasıl erişebilirsiniz?\n",
        "\n",
        "PyTorch, [Torchvision.Datasets](https://pytorch.org/docs/stable/torchvision/datasets.html) adlı bir veri kümesi modülü ile birlikte gelir. Torchvision.Datasets modülü, aradığımız MNIST dahil olmak üzere bir dizi halka açık veri kümesi içerir. Böylece kolayca verileri kullanabilirsiniz.\n"
      ]
    },
    {
      "cell_type": "code",
      "metadata": {
        "id": "tia9JXE46rJF"
      },
      "source": [
        "# Bazı gerekli kütüphanelerin import edilmesi (her zaman yaptığımız gibi)\n",
        "import torch # PyTorch (TensorFlowcular için ilk farklı adım :) )\n",
        "from torchvision import datasets # Datasetlere erişme modülü\n",
        "import torchvision.transforms as transforms # Görüntü transform etme için gerekli importlar\n",
        "from torch.utils.data.sampler import SubsetRandomSampler # Sampler"
      ],
      "execution_count": 1,
      "outputs": []
    },
    {
      "cell_type": "markdown",
      "source": [],
      "metadata": {
        "id": "fJBu-wrPIsab"
      }
    },
    {
      "cell_type": "code",
      "metadata": {
        "id": "rVP4itgp7jC9"
      },
      "source": [
        "# Veri Biliminin VAzgeçilmezleri Kütüphanler\n",
        "import numpy as np\n",
        "import pandas as pd"
      ],
      "execution_count": null,
      "outputs": []
    },
    {
      "cell_type": "markdown",
      "metadata": {
        "id": "6h8vdeaZ7sj_"
      },
      "source": [
        "**torchvision.datasets** modül dokümanına bir göz atalım! Böylece kullanım şekillerini ve hangi parametrelerle kullanabileceğinizi görebilirsiniz.\n",
        "\n",
        "<img src=\"https://drive.google.com/uc?id=1Zsgc5_PnO9BQQ5wqssf67A5Ge-qIXtLh\" width=70% />\n"
      ]
    },
    {
      "cell_type": "code",
      "metadata": {
        "id": "UapF3_qS67Pi",
        "outputId": "650d4607-ea64-4c0b-8a32-d1456627f1a0",
        "colab": {
          "base_uri": "https://localhost:8080/",
          "height": 332,
          "referenced_widgets": [
            "244f0761113148f6837ddcae5c3ff43d",
            "f28a0f68189e4be28e5e1beb0d3c1d46",
            "a24f745f7e544d31ac53595fb8d67bb9",
            "3a381d5d99934d69b34ee381209854e9",
            "646c399551cb4b379a422c13f988cf12",
            "34f3f6856a7c458b9a77b4b2f048a29e",
            "93aff7900537455f8b14530fe441080c",
            "3c2534cec96544eeb6bc15940dd8d0cc",
            "d37d1a1e961d46a2b12689bdd04ca0f9",
            "1d7f322aabe0465baea1035057dd1af5",
            "b165334a320e408ea32e888c2453153d",
            "38b922d2f12b4408a35a4c1c4b581fc9",
            "dccb34a7e0954599a09e992d951990a8",
            "64dd023f841c4952a292671d0d4a7f51",
            "9748d3e77a3249ccaefb1a8fb0d7b69f",
            "1a41d135b9b04007a3396b1b997a7d92",
            "ad9caaa2819c425ba2825e5569ac2b52",
            "27c6a141240d4351b16147d8f781663e",
            "f078c8341e38488e8c7114d90154f6c7",
            "f44162e10673407897610d335f99a33b",
            "37dc588c153f4b4caa5cea35a5f08587",
            "b12481187f02443391be8e1ba4a7138b",
            "2d6962b613424ef4b8b8990ef79eb376",
            "ba7f05fd46d24b86a132d869143dede2",
            "12037e928b564fcbb8c1544f22bc7167",
            "fa62a32dbca64c598090397d18fb82eb",
            "c9aa160061304c5c84b4d04958e126d8",
            "c516c4bfd34a4e709bb1aed7015ceecd",
            "d708e12e1ae74ac3a3c426dac90aea0c",
            "1ac99ed6564f474485b07695d89522d1",
            "b751768d0dc74ef3b61e94a35dd27ce1",
            "e46bf8c3aac645e3b1b41ed1083b6014"
          ]
        }
      },
      "source": [
        "# Datayı torch.FloatTensor a dönüştürüyoruz\n",
        "transform = transforms.ToTensor()\n",
        "\n",
        "# Eğitim ve Test verilerini seçiyoruz.\n",
        "train_data = datasets.MNIST(root='data', train=True,    # train=true => Eğitim seti\n",
        "                                   download=True, transform=transform)\n",
        "test_data = datasets.MNIST(root='data', train=False,    # train=false => Test seti\n",
        "                                  download=True, transform=transform)"
      ],
      "execution_count": null,
      "outputs": [
        {
          "output_type": "stream",
          "text": [
            "Downloading http://yann.lecun.com/exdb/mnist/train-images-idx3-ubyte.gz to data/MNIST/raw/train-images-idx3-ubyte.gz\n"
          ],
          "name": "stdout"
        },
        {
          "output_type": "display_data",
          "data": {
            "application/vnd.jupyter.widget-view+json": {
              "model_id": "244f0761113148f6837ddcae5c3ff43d",
              "version_minor": 0,
              "version_major": 2
            },
            "text/plain": [
              "HBox(children=(IntProgress(value=1, bar_style='info', max=1), HTML(value='')))"
            ]
          },
          "metadata": {
            "tags": []
          }
        },
        {
          "output_type": "stream",
          "text": [
            "Extracting data/MNIST/raw/train-images-idx3-ubyte.gz to data/MNIST/raw\n",
            "Downloading http://yann.lecun.com/exdb/mnist/train-labels-idx1-ubyte.gz to data/MNIST/raw/train-labels-idx1-ubyte.gz\n"
          ],
          "name": "stdout"
        },
        {
          "output_type": "display_data",
          "data": {
            "application/vnd.jupyter.widget-view+json": {
              "model_id": "d37d1a1e961d46a2b12689bdd04ca0f9",
              "version_minor": 0,
              "version_major": 2
            },
            "text/plain": [
              "HBox(children=(IntProgress(value=1, bar_style='info', max=1), HTML(value='')))"
            ]
          },
          "metadata": {
            "tags": []
          }
        },
        {
          "output_type": "stream",
          "text": [
            "Extracting data/MNIST/raw/train-labels-idx1-ubyte.gz to data/MNIST/raw\n",
            "Downloading http://yann.lecun.com/exdb/mnist/t10k-images-idx3-ubyte.gz to data/MNIST/raw/t10k-images-idx3-ubyte.gz\n",
            "\n"
          ],
          "name": "stdout"
        },
        {
          "output_type": "display_data",
          "data": {
            "application/vnd.jupyter.widget-view+json": {
              "model_id": "ad9caaa2819c425ba2825e5569ac2b52",
              "version_minor": 0,
              "version_major": 2
            },
            "text/plain": [
              "HBox(children=(IntProgress(value=1, bar_style='info', max=1), HTML(value='')))"
            ]
          },
          "metadata": {
            "tags": []
          }
        },
        {
          "output_type": "stream",
          "text": [
            "Extracting data/MNIST/raw/t10k-images-idx3-ubyte.gz to data/MNIST/raw\n",
            "Downloading http://yann.lecun.com/exdb/mnist/t10k-labels-idx1-ubyte.gz to data/MNIST/raw/t10k-labels-idx1-ubyte.gz\n"
          ],
          "name": "stdout"
        },
        {
          "output_type": "display_data",
          "data": {
            "application/vnd.jupyter.widget-view+json": {
              "model_id": "12037e928b564fcbb8c1544f22bc7167",
              "version_minor": 0,
              "version_major": 2
            },
            "text/plain": [
              "HBox(children=(IntProgress(value=1, bar_style='info', max=1), HTML(value='')))"
            ]
          },
          "metadata": {
            "tags": []
          }
        },
        {
          "output_type": "stream",
          "text": [
            "Extracting data/MNIST/raw/t10k-labels-idx1-ubyte.gz to data/MNIST/raw\n",
            "Processing...\n",
            "Done!\n"
          ],
          "name": "stdout"
        }
      ]
    },
    {
      "cell_type": "markdown",
      "metadata": {
        "id": "NnZrOAcMZRTp"
      },
      "source": [
        "### 2. Eğitim, Doğrulama/Geçerleme ve Test Kümelerinin Oluşturulması\n",
        "\n",
        "İndirme işlemi tamamlandıktan sonra 'veri' klasörünüzde indirilen MNIST veri kümesini görebilirsiniz.\n",
        "Temel olarak eğitim ve test kümelerine ihtiyacımız var ancak bir de doğrulama kümesi ayırmalıyız eğitim kümesi içinden.\n",
        "\n",
        "*   Eğitim Kümesi (%80 görüntü)\n",
        "*   Doğrulama/Geçerleme Kümesi (%20 görüntü)\n",
        "\n",
        "Bunu yapmak için kullandığımız algoritma oldukça basit;\n",
        "\n",
        "1. Eğitim verilerinin endekslerinin bir listesini oluşturun.\n",
        "2. Bu indeksleri rastgele karıştırın.\n",
        "3. Endeksleri 80-20 bölünmüş olarak ayırın.\n",
        "\n",
        "[Doğrulama/Geçerleme kümesine neden ihtiyaç var? Regularization yolları nelerdir?](https://www.youtube.com/watch?v=gbzwtZGrkrQ&t=4s)\n",
        "\n",
        "![Doğrulama Kümesi](https://i.hizliresim.com/bcHNzo.png)\n"
      ]
    },
    {
      "cell_type": "code",
      "metadata": {
        "id": "IrsPBIfRYwNc",
        "outputId": "5434e624-f8f2-405b-989a-40e2b96c97a2",
        "colab": {
          "base_uri": "https://localhost:8080/",
          "height": 51
        }
      },
      "source": [
        "# Doğrulama/Geçerleme için kullanılacak eğitim endeksleri elde etmek\n",
        "\n",
        "# 1. Eğitim verilerinin endekslerinin bir listesini oluşturun\n",
        "num_train = len(train_data)\n",
        "print('num_train = len(train_data) ==> ', num_train)\n",
        "indices = list(range(num_train))\n",
        "print('len(indices) ==>', len(indices))"
      ],
      "execution_count": null,
      "outputs": [
        {
          "output_type": "stream",
          "text": [
            "num_train = len(train_data) ==>  60000\n",
            "len(indices) ==> 60000\n"
          ],
          "name": "stdout"
        }
      ]
    },
    {
      "cell_type": "code",
      "metadata": {
        "id": "xjDu_dd35TZZ"
      },
      "source": [
        "# 2. Bu indeksleri rastgele karıştırın\n",
        "np.random.shuffle(indices)"
      ],
      "execution_count": null,
      "outputs": []
    },
    {
      "cell_type": "code",
      "metadata": {
        "id": "UKqrNSg-5VMq",
        "outputId": "dd0fd8fd-227e-4320-b3f1-16fba70b6f8e",
        "colab": {
          "base_uri": "https://localhost:8080/",
          "height": 51
        }
      },
      "source": [
        "# 3. Endeksleri %80 eğitim için %20 doğrulama/geçerleme olarak bölün.\n",
        "valid_size = 0.2 # Eğitim kümesi iki parçaya ayrılmaya çalışılıyor\n",
        "                 # 80% eğitim 20% doğrulama/geçerleme\n",
        "split = int(np.floor(valid_size * num_train))\n",
        "train_idx, valid_idx = indices[split:], indices[:split]\n",
        "\n",
        "print('len(train_idx) ==> ', len(train_idx))\n",
        "print('len(valid_idx) ==> ', len(valid_idx))"
      ],
      "execution_count": null,
      "outputs": [
        {
          "output_type": "stream",
          "text": [
            "len(train_idx) ==>  48000\n",
            "len(valid_idx) ==>  12000\n"
          ],
          "name": "stdout"
        }
      ]
    },
    {
      "cell_type": "markdown",
      "metadata": {
        "id": "14RHH0Jt8_k_"
      },
      "source": [
        "Şimdiye kadar sadece **'endekslerle'**  \\``(indices)`\\` uğraşıyoruz, gerçek görüntülerle değil! Ama neden?\n",
        "\n",
        "O zaman cevapla devam edelim..."
      ]
    },
    {
      "cell_type": "markdown",
      "metadata": {
        "id": "IlTpuhxVAfCK"
      },
      "source": [
        "### 3. Dataloaderların Hazırlanması\n",
        "\n",
        "Veri kümesini indirdik ve bir eğitim / geçerli / test bölümü oluşturduk.\n",
        "Soru: Bu verileri bir PyTorch modeline nasıl (_'push'_) ekleyeceğiz?\n",
        "Cevap: PyTorch, bir veri kümesindeki verileri bir modül aracılığıyla (_'ingest'_) alma mekanizmasına sahiptir ve bu\n",
        "`DataLoader` olarak bilinir.\n",
        "\n",
        "Harika bir benzetme ile  \n",
        "\n",
        "![DataLoader](https://drive.google.com/uc?id=1U4IG-5lbFGQQS4xwQPU2QiYdR1hFGBZ5 \"Always remember, Deep Learning Model is Your Baby and you got to feed it well!\")\n",
        "\n",
        "[Kullanışlı bir DataLoaders Anlatımı](https://www.journaldev.com/36576/pytorch-dataloader \"PyTorch DataLoader\")  \n",
        "[Stanford Üniversitesi DataLoaders Notları](https://stanford.edu/~shervine/blog/pytorch-how-to-generate-data-parallel \"A detailed example of how to generate your data in parallel with PyTorch\")\n",
        "\n",
        "Şimdi _DataLoaders_ hazırlama zamanı!\n",
        "\n",
        "<img src=\"https://drive.google.com/uc?id=1YFbWIGwNlL5Kp4Zvt52Ck0_Wk4MNfxS9\" width=70% />\n"
      ]
    },
    {
      "cell_type": "code",
      "metadata": {
        "id": "5_Zzb55d8k7o"
      },
      "source": [
        "# eğitim ve doğrulama gruplarını elde etmek için samplers tanımlamamız gerekecek\n",
        "# unutmayın yukarıda train_idx ve valid_idx indekslerin kullanmıştık\n",
        "\n",
        "train_sampler = SubsetRandomSampler(train_idx)\n",
        "valid_sampler = SubsetRandomSampler(valid_idx)\n",
        "\n",
        "# dataloaderların hazırlanması\n",
        "# veri yükleme için kullanılacak alt işlemlerin sayısı\n",
        "num_workers = 0 # burayı değiştirmeyin\n",
        "# her bir batch için yüklenecek örnek sayısı\n",
        "batch_size = 20 # örneğin 20 seçebilirsiniz\n",
        "\n",
        "# EĞİTİM KÜMESİ\n",
        "train_loader = torch.utils.data.DataLoader(dataset=train_data, \\\n",
        "                                           batch_size=batch_size, \\\n",
        "                                           sampler=train_sampler, \\\n",
        "                                           num_workers=num_workers)\n",
        "# DOĞRULAMA/GEÇERLEME KÜMESİ\n",
        "valid_loader = torch.utils.data.DataLoader(dataset=train_data, \\\n",
        "                                           batch_size=batch_size, \\\n",
        "                                           sampler=valid_sampler, \\\n",
        "                                           num_workers=num_workers)\n",
        "# TEST KÜMESİ\n",
        "# Gerekli olmadığı için burada bir 'sample' kullanmadığına dikkat edelim\n",
        "test_loader = torch.utils.data.DataLoader(dataset=test_data, \\\n",
        "                                          batch_size=batch_size, \\\n",
        "                                          num_workers=num_workers)"
      ],
      "execution_count": null,
      "outputs": []
    },
    {
      "cell_type": "markdown",
      "metadata": {
        "id": "ZBy_7mS_4hdc"
      },
      "source": [
        "Veri yüklekmek için dataloaderları çalıştırdık, ama gerçekten çalıştıklarını nasıl biliyoruz?\n",
        "Dataloaderlar verilerinin görselleştirelim ve kontrol edelim!"
      ]
    },
    {
      "cell_type": "code",
      "metadata": {
        "id": "JrRjUiQG5uOu",
        "outputId": "6b0bb6ed-0f69-41fb-b27c-ddc8dc6b1a86",
        "colab": {
          "base_uri": "https://localhost:8080/",
          "height": 136
        }
      },
      "source": [
        "# Verileri toplu olarak görselleştirelim\n",
        "\n",
        "dataiter = iter(train_loader) # tüm batch i alalım\n",
        "images, labels = dataiter.next() # Görüntüleri ve onların etiketlerini elde edelim\n",
        "print(len(images), len(labels)) # Bu kısım batch sayısına yani 20'ye eşit olmalıdır.\n",
        "print('Correct Labels: ', labels)\n",
        "images = images.numpy() # Matplotlib için görüntüleri numpy dizisine dönüştürme\n",
        "print('Shape of our images tensor =', images.shape)\n",
        "print('Batch Size =', images.shape[0], 'Image Height/Width =', \\\n",
        "                                                        images.shape[2])\n",
        "\n",
        "print()\n",
        "print('Squeezing the images tensor =', np.squeeze(images).shape)\n",
        "print('Un-squeezing the images tensor (axis=3) =', \\\n",
        "                                        np.expand_dims(images, axis=3).shape)"
      ],
      "execution_count": null,
      "outputs": [
        {
          "output_type": "stream",
          "text": [
            "20 20\n",
            "Correct Labels:  tensor([0, 8, 9, 2, 4, 2, 6, 4, 4, 6, 9, 2, 9, 2, 5, 9, 9, 5, 9, 2])\n",
            "Shape of our images tensor = (20, 1, 28, 28)\n",
            "Batch Size = 20 Image Height/Width = 28\n",
            "\n",
            "Squeezing the images tensor = (20, 28, 28)\n",
            "Un-squeezing the images tensor (axis=3) = (20, 1, 28, 1, 28)\n"
          ],
          "name": "stdout"
        }
      ]
    },
    {
      "cell_type": "code",
      "metadata": {
        "id": "Y58P0-etIck4"
      },
      "source": [
        "import matplotlib.pyplot as plt\n",
        "# Grafikler 'inline' ile notebook üzerinde çizilir\n",
        "%matplotlib inline"
      ],
      "execution_count": null,
      "outputs": []
    },
    {
      "cell_type": "markdown",
      "metadata": {
        "id": "yL8sSrheGg9-"
      },
      "source": [
        "\n",
        "[Matplotlib kullanımı için kaynak](https://realpython.com/python-matplotlib-guide/ \"Real Python has some of the best Python Tutorials on the Internet...no kidding!\")"
      ]
    },
    {
      "cell_type": "code",
      "metadata": {
        "id": "cC5KTKSv6Y8T",
        "outputId": "2ca28104-8cd1-4584-fe4a-f327cbcd8b0b",
        "colab": {
          "base_uri": "https://localhost:8080/",
          "height": 187
        }
      },
      "source": [
        "# Tüm batch i çizdirelim\n",
        "fig = plt.figure(figsize=(25, 4))\n",
        "# Batch sayısı kadar bir for döngüsü ile her bir batch i çizdirmiş olalım\n",
        "for idx in np.arange(20):\n",
        "    # Tüm eksene bir görüntüyü daha ekleme\n",
        "    ax = fig.add_subplot(2, 20/2, idx+1, xticks=[], yticks=[])\n",
        "    # Tüm subplot u görsellerle işleriz bu adımda\n",
        "    ax.imshow(np.squeeze(images[idx]), cmap='gray')\n",
        "    # Her görüntünün Label ı başlık olarak eklenir\n",
        "    # .item() bir tensörde bulunan değeri alır\n",
        "    ax.set_title(str(labels[idx].item()))"
      ],
      "execution_count": null,
      "outputs": [
        {
          "output_type": "display_data",
          "data": {
            "image/png": "[encoded data removed]",
            "text/plain": [
              "<Figure size 1800x288 with 20 Axes>"
            ]
          },
          "metadata": {
            "tags": []
          }
        }
      ]
    },
    {
      "cell_type": "code",
      "metadata": {
        "id": "ls_AFh0FzMkG",
        "outputId": "7edde855-f1f3-4e7c-8528-f899d563f041",
        "colab": {
          "base_uri": "https://localhost:8080/",
          "height": 530
        }
      },
      "source": [
        "# Peki o halde spor olsun diye küçük bir numara deniyelim!\n",
        "\n",
        "dataiter = iter(train_loader)\n",
        "images, labels = dataiter.next()\n",
        "images = images.numpy()\n",
        "np.set_printoptions(precision=2, threshold=None, edgeitems=None, \\\n",
        "                    linewidth=180, suppress=None)\n",
        "print('Label', labels[0])\n",
        "print(images[0])"
      ],
      "execution_count": null,
      "outputs": [
        {
          "output_type": "stream",
          "text": [
            "Label tensor(9)\n",
            "[[[0.   0.   0.   0.   0.   0.   0.   0.   0.   0.   0.   0.   0.   0.   0.   0.   0.   0.   0.   0.   0.   0.   0.   0.   0.   0.   0.   0.  ]\n",
            "  [0.   0.   0.   0.   0.   0.   0.   0.   0.   0.   0.   0.   0.   0.   0.   0.   0.   0.   0.   0.   0.   0.   0.   0.   0.   0.   0.   0.  ]\n",
            "  [0.   0.   0.   0.   0.   0.   0.   0.   0.   0.   0.   0.   0.   0.   0.   0.   0.   0.   0.   0.   0.   0.   0.   0.   0.   0.   0.   0.  ]\n",
            "  [0.   0.   0.   0.   0.   0.   0.   0.   0.   0.   0.   0.   0.   0.   0.   0.   0.   0.   0.   0.   0.   0.   0.   0.   0.   0.   0.   0.  ]\n",
            "  [0.   0.   0.   0.   0.   0.   0.   0.   0.   0.   0.   0.   0.   0.   0.   0.   0.   0.   0.   0.   0.   0.   0.   0.   0.   0.   0.   0.  ]\n",
            "  [0.   0.   0.   0.   0.   0.   0.   0.   0.   0.   0.   0.   0.   0.   0.08 0.82 1.   1.   1.   1.   0.3  0.   0.   0.   0.   0.   0.   0.  ]\n",
            "  [0.   0.   0.   0.   0.   0.   0.   0.   0.   0.   0.   0.   0.02 0.6  0.95 0.99 0.99 0.99 0.91 0.92 0.3  0.   0.   0.   0.   0.   0.   0.  ]\n",
            "  [0.   0.   0.   0.   0.   0.   0.   0.   0.   0.   0.   0.   0.23 0.89 1.   0.96 0.75 0.14 0.09 0.09 0.06 0.   0.   0.   0.   0.   0.   0.  ]\n",
            "  [0.   0.   0.   0.   0.   0.   0.   0.   0.   0.   0.   0.09 0.8  0.99 0.87 0.32 0.   0.   0.   0.   0.   0.   0.   0.   0.   0.   0.   0.  ]\n",
            "  [0.   0.   0.   0.   0.   0.   0.   0.   0.   0.   0.08 0.8  0.99 0.86 0.2  0.   0.   0.   0.   0.13 0.   0.   0.   0.   0.   0.   0.   0.  ]\n",
            "  [0.   0.   0.   0.   0.   0.   0.   0.   0.   0.   0.8  1.   0.87 0.33 0.   0.   0.   0.05 0.89 1.   0.3  0.   0.   0.   0.   0.   0.   0.  ]\n",
            "  [0.   0.   0.   0.   0.   0.   0.   0.   0.   0.6  0.99 0.96 0.32 0.   0.   0.   0.   0.28 0.99 1.   0.22 0.   0.   0.   0.   0.   0.   0.  ]\n",
            "  [0.   0.   0.   0.   0.   0.   0.   0.   0.05 0.95 0.99 0.54 0.   0.   0.   0.   0.07 0.71 0.99 0.95 0.06 0.   0.   0.   0.   0.   0.   0.  ]\n",
            "  [0.   0.   0.   0.   0.   0.   0.   0.   0.64 1.   0.87 0.16 0.   0.   0.   0.12 0.64 0.99 0.99 0.41 0.   0.   0.   0.   0.   0.   0.   0.  ]\n",
            "  [0.   0.   0.   0.   0.   0.   0.   0.18 0.91 1.   0.42 0.   0.   0.   0.23 0.85 0.99 0.99 0.86 0.   0.   0.   0.   0.   0.   0.   0.   0.  ]\n",
            "  [0.   0.   0.   0.   0.   0.   0.   0.43 1.   1.   0.07 0.04 0.44 0.76 1.   1.   1.   1.   0.53 0.   0.   0.   0.   0.   0.   0.   0.   0.  ]\n",
            "  [0.   0.   0.   0.   0.   0.   0.   0.08 0.93 1.   0.93 0.93 0.99 0.99 1.   0.99 0.99 0.95 0.12 0.   0.   0.   0.   0.   0.   0.   0.   0.  ]\n",
            "  [0.   0.   0.   0.   0.   0.   0.   0.   0.61 1.   0.99 0.99 0.91 0.5  0.51 0.99 0.99 0.74 0.   0.   0.   0.   0.   0.   0.   0.   0.   0.  ]\n",
            "  [0.   0.   0.   0.   0.   0.   0.   0.   0.   0.44 0.56 0.56 0.2  0.03 0.72 0.99 0.93 0.2  0.   0.   0.   0.   0.   0.   0.   0.   0.   0.  ]\n",
            "  [0.   0.   0.   0.   0.   0.   0.   0.   0.   0.   0.   0.   0.   0.36 1.   0.99 0.72 0.   0.   0.   0.   0.   0.   0.   0.   0.   0.   0.  ]\n",
            "  [0.   0.   0.   0.   0.   0.   0.   0.   0.   0.   0.   0.   0.15 0.89 1.   0.85 0.05 0.   0.   0.   0.   0.   0.   0.   0.   0.   0.   0.  ]\n",
            "  [0.   0.   0.   0.   0.   0.   0.   0.   0.   0.   0.   0.   0.5  0.99 1.   0.5  0.   0.   0.   0.   0.   0.   0.   0.   0.   0.   0.   0.  ]\n",
            "  [0.   0.   0.   0.   0.   0.   0.   0.   0.   0.   0.   0.07 0.89 0.99 0.75 0.01 0.   0.   0.   0.   0.   0.   0.   0.   0.   0.   0.   0.  ]\n",
            "  [0.   0.   0.   0.   0.   0.   0.   0.   0.   0.   0.   0.42 0.99 0.99 0.68 0.   0.   0.   0.   0.   0.   0.   0.   0.   0.   0.   0.   0.  ]\n",
            "  [0.   0.   0.   0.   0.   0.   0.   0.   0.   0.   0.   0.32 0.91 0.99 0.23 0.   0.   0.   0.   0.   0.   0.   0.   0.   0.   0.   0.   0.  ]\n",
            "  [0.   0.   0.   0.   0.   0.   0.   0.   0.   0.   0.   0.   0.   0.   0.   0.   0.   0.   0.   0.   0.   0.   0.   0.   0.   0.   0.   0.  ]\n",
            "  [0.   0.   0.   0.   0.   0.   0.   0.   0.   0.   0.   0.   0.   0.   0.   0.   0.   0.   0.   0.   0.   0.   0.   0.   0.   0.   0.   0.  ]\n",
            "  [0.   0.   0.   0.   0.   0.   0.   0.   0.   0.   0.   0.   0.   0.   0.   0.   0.   0.   0.   0.   0.   0.   0.   0.   0.   0.   0.   0.  ]]]\n"
          ],
          "name": "stdout"
        }
      ]
    },
    {
      "cell_type": "markdown",
      "metadata": {
        "id": "2APl70a5LH66"
      },
      "source": [
        "Verierimiz gayet güzel görünüyor!\n",
        "<br/>\n",
        "Artık CNN tabanlı görüntü sınıflandırma modelimizi PyTorch'ta üretme zamanı ... 2020'de!"
      ]
    },
    {
      "cell_type": "markdown",
      "metadata": {
        "id": "LGFnKhH5Lh9t"
      },
      "source": [
        "### 4. PyTorch Kullanarak CNN Modeli Oluşturma\n",
        "Ancak önce CNN'lerin nasıl çalıştığını ve tipik bir CNN tabanlı görüntü sınıflandırma mimarisinin bileşenlerini bilmemiz gerekir.\n",
        "\n",
        "Gelsin pikseller, başlıyoruz :)\n",
        "\n",
        "<img src=\"https://media.giphy.com/media/26ufc8n6KYsFpuzoA/giphy.gif\" width=20% />\n",
        "\n"
      ]
    },
    {
      "cell_type": "markdown",
      "metadata": {
        "id": "e99lxoYpt9o8"
      },
      "source": [
        "####4.1.1 Evrişimli Sinir Ağı (CNN) Mimarisi  \n",
        "Bilinen temel bir evrişimli sinir ağı mimarisi aşağıdakine benzerdir;  \n",
        "\n",
        "<img src=\"https://drive.google.com/uc?id=1RYYh27hsyY5Mx4L_lwGUVGQ3OYkSCqB-\" width=60% />\n",
        "\n",
        "<br/> Bu notebookda çalışacağımız modele yakın bir model de bu,  \n",
        "<img src=\"https://drive.google.com/uc?id=1cnDzorKeRmNUAUJYw2yvQiY2D4f-sDNL\" width=60% />\n",
        "\n",
        "Tüm bu mimarileri daha detaylı öğrenmek isterseniz\n",
        "\n",
        "[DERİNE DAHA DERİNE: Evrişimli Sinir Ağları](https://medium.com/@ayyucekizrak/deri%CC%87ne-daha-deri%CC%87ne-evri%C5%9Fimli-sinir-a%C4%9Flar%C4%B1-2813a2c8b2a9)\n",
        "\n",
        "\n",
        "<img src=\"https://media.giphy.com/media/l2uBoH5AT2lOTH9ayR/giphy.gif\" width=30% />"
      ]
    },
    {
      "cell_type": "markdown",
      "metadata": {
        "id": "obnRoku91VXj"
      },
      "source": [
        "####4.1.2 Temel bir CNN Katmanı\n",
        "Peki, CNN katmanı aslında nasıl iş yapıyor?\n",
        "\n",
        "![Evrişim İşlemi](https://drive.google.com/uc?id=1JictobCPmaIX_9pm2mQewc4QiAzl0pzO \"Remember Billie Eilish above?\")  \n",
        "\n",
        "<br/>Renkli bir görüntü 3 kanaldan meydana gelir (RGB),  \n",
        "![RGB Görüntü Temsili](https://drive.google.com/uc?id=1QlU04TZ6IN2IRqQJFB8m6GFJ2MmqYGhz \"https://towardsdatascience.com/a-comprehensive-guide-to-convolutional-neural-networks-the-eli5-way-3bd2b1164a53\")  \n",
        "\n",
        "<br/>3 Kanallı evrişim işlemi,  \n",
        "![RGB Evrişim](https://drive.google.com/uc?id=1CGIqxGHjJGXr8aduPtwGd1-ikgA3WqJ5 \"https://towardsdatascience.com/a-comprehensive-introduction-to-different-types-of-convolutions-in-deep-learning-669281e58215\")  \n",
        "\n",
        "![RGB Evrişim Toplamı](https://drive.google.com/uc?id=1fpM3NLvyjeiKF6_at0Nv4XhYPRkwH1IY \"https://towardsdatascience.com/a-comprehensive-introduction-to-different-types-of-convolutions-in-deep-learning-669281e58215\")\n"
      ]
    },
    {
      "cell_type": "markdown",
      "metadata": {
        "id": "dsM9p5pN55Ht"
      },
      "source": [
        "####4.1.3 Adım kaydırma (Stride)  \n",
        "_'Stride'_ görüntü üzerindeki işlemi kaç adım kaydırarak devam edeceğimizi belirleriz.  \n",
        "\n",
        "Hemen bir örnekle başlayalım:  _stride=1_,  - Durumu değiştirisek nasıl olur peki:  _stride=2_,\n",
        "\n",
        "<img src=\"https://drive.google.com/uc?id=1wJd7VCYfiMDes0Ex0SlBL97yBP6P7ajt \" width=30% />\n",
        "\n",
        "\n",
        "<img src=\"https://drive.google.com/uc?id=1dG2i4WtxUzu9Wlsl3jyH4ZXxUSYVdKfk \" width=35% />\n"
      ]
    },
    {
      "cell_type": "markdown",
      "metadata": {
        "id": "0UTagwYo92ZK"
      },
      "source": [
        "####4.1.4 Piksel Ekleme (Padding)\n",
        "İşlemi uygulayacağımız görüntünün çevresine ekleyeceğimiz pikseller ya da doldurma işlemi de diyebiliriz bize çıkış boyutunun azalmamasını sağlar ve daha az bilgi kaybetmemize yarar. Bu pikselleri tamamen 0, tamamen 255 ya da çevresindeki piksel değerlerini kopyalayarak da yapabiliriz.\n",
        "\n",
        "<img src=\"https://drive.google.com/uc?id=1xIQSJVRtAS7em_E387ZBd6sErjwA7RD6\" width=30% />"
      ]
    },
    {
      "cell_type": "markdown",
      "metadata": {
        "id": "kKK72-_H94bi"
      },
      "source": [
        "####4.1.5 Maksimum Ortaklama (Max-Pooling)\n",
        "\n",
        "Ortaklama işlemi ile yapmak istediğimiz boyut azaltma ve işlem yükünü hafifletmektir. Sıklıkla maksimum ortaklama kullanılabileceği gibi ortlama (average) ya da medyan (medium) ortaklama da tercih edilebilir.\n",
        "\n",
        "<img src=\"https://drive.google.com/uc?id=11_1ThNaU4e4DAEFs7I9GsNoD7oFmtVES \" width=40% />\n",
        "\n",
        "<img src=\"https://drive.google.com/uc?id=1ECZrE8vAhTE1gEsp_3vPy03oLuSj0aOW\" width=30% />\n",
        "\n",
        "\n",
        "[Ortaklama türlerini anlatan güzel bir kaynak!](https://machinelearningmastery.com/pooling-layers-for-convolutional-neural-networks/ \"Jason Brownlee is an absolute genius. His blog is a damn goldmine!\")"
      ]
    },
    {
      "cell_type": "markdown",
      "metadata": {
        "id": "98q9buSu-hxw"
      },
      "source": [
        "####4.1.6 Aktivasyon Fonksiyonu: ReLU (Rectified Linear Units)\n",
        "\n",
        "Aktivasyon fonksiyonları sinir ağlarında kilit bir rol oynar, bu nedenle daha iyi performans elde etmek için avantajlarını ve dezavantajlarını anlamak esastır.\n",
        "\n",
        "Çoğunlukla CNN modellerde ReLU kullanılır, bu çalışmada da öyle yapacağız.\n",
        "![ReLU Activation](https://miro.medium.com/max/487/1*UN79Z_9jSAEqvd5jiov32Q.png \"https://medium.com/@ayyucekizrak/derin-%C3%B6%C4%9Frenme-i%C3%A7in-aktivasyon-fonksiyonlar%C4%B1n%C4%B1n-kar%C5%9F%C4%B1la%C5%9Ft%C4%B1r%C4%B1lmas%C4%B1-cee17fd1d9cd\")\n",
        "\n",
        "Ama siz bu avantaj ve dezavantajları merak ederseniz hem video içeriği olan hem blog yazısı olan bir diğer çalışmamı ekliyorum:\n",
        "\n",
        "Blog: [Derin Öğrenme İçin Aktivasyon Fonksiyonlarının Karşılaştırılması](https://medium.com/@ayyucekizrak/derin-%C3%B6%C4%9Frenme-i%C3%A7in-aktivasyon-fonksiyonlar%C4%B1n%C4%B1n-kar%C5%9F%C4%B1la%C5%9Ft%C4%B1r%C4%B1lmas%C4%B1-cee17fd1d9cd)\n",
        "\n",
        "Video: [Derin Öğrenme İçin Aktivasyon Fonksiyonlarının Karşılaştırılması](https://www.youtube.com/watch?v=ZMkLC-ebIqE)"
      ]
    },
    {
      "cell_type": "markdown",
      "metadata": {
        "id": "vvnlvaIQ_ECZ"
      },
      "source": [
        "####4.1.7 Tam Bağlantılı, Lineer Bağlantılı Katmanlar (_Fully Connected_ or _Linear Layers_)  \n",
        "Sınıflandırma veya regresyon görevleri için nihai boyutsal azalmayı yaptığımız katmanlardır.\n",
        "\n",
        "<img src=\"https://i.hizliresim.com/cJgfL8.png\" width=60% />"
      ]
    },
    {
      "cell_type": "markdown",
      "metadata": {
        "id": "Xct_yN3R_8pP"
      },
      "source": [
        "**İlerlemeden önce, herkes için birkaç soru:**\n",
        "\n",
        "1. İlk birkaç CNN katmanı ne tür öznitelikleri yakalar?\n",
        "2. Son birkaç CNN katmanı ne tür öznitelikleri yakalar?\n",
        "3. Maksimum ortaklamanın rolü nedir?\n",
        "4. Maksimum ortaklamaya benzer bir rol gerçekleştirmek için stride kullanabilir miyiz?\n",
        "\n",
        "Bu soruları cevaplayabildğinize emin olun :)\n",
        "\n",
        "<img src=\"https://media.giphy.com/media/xULW8vi25RrpxQrmrm/giphy.gif\" width=40% />\n",
        "\n",
        "\n",
        "\n",
        "\n",
        "\n",
        "\n",
        "\n",
        ""
      ]
    },
    {
      "cell_type": "markdown",
      "metadata": {
        "id": "el1NUdaz0HrE"
      },
      "source": [
        "####4.2.1 PyTorch  (Gelelim Sadede)\n",
        "\n",
        "PyTorch popüler Deep Learning kütüphanelerinin ön sıralarında yer alıyor. Popülerlik açısından, Tensorflow'u bile ele geçmiş olabilir. Emin değilim (:\n",
        "\n",
        "Tensorflow, _PyTorch_'tan önce kullanılmaya başladı ve Biliyoruz ki _Google_'ın mühendislik ve pazarlama gücü tarafından destekleniyor. Bu kötü bir şey değil bu arad öyle anlaşılmasın :)\n",
        "\n",
        "_Peki, PyTorch neden/nasıl bu kadar ünlü oldu?_\n",
        "Çünkü, PyTorch araştırmacı ve geliştiriciler için dinamik hesaplama grafikleri nedeniyle son derece esnek ve ideal olmasındandır.\n",
        "  "
      ]
    },
    {
      "cell_type": "markdown",
      "metadata": {
        "id": "3iKCm6RQJUL5"
      },
      "source": [
        "####4.2.2 Hesaplamalı Grafikleri (Computational Graph) Anlama\n",
        "\n",
        "Her Derin Sinir Ağı eğitiminin altında, sadece iki temel süreç işler:\n",
        "\n",
        "1.  İleri Yayılım (Yeşil oklar) - ağın başlangıcından itibaren görüntüleri / verileri giriş ve bir çıktı arasında (bir kayıp / hata) oluşturma.\n",
        "2. Geri yayılım (Kırmızı oklar) - esas olarak, kayıpla ilgili kısmi türevler kullanarak gradyanları hesapladığımız ve ağın ağırlıklarında değişiklikler yaptığımız bir işlemdir. Özetle, derin öğrenme ağları bu şekilde eğitilir.\n",
        "\n",
        "<img src=\"https://i.hizliresim.com/Q59ANM.png\" width=60% />\n",
        "\n",
        "Yukarıdaki görüntü basit bir sinir ağıdır. Ama aynı zamanda bir hesaplama grafiğidir. _Kaynak: Udemy - Python ile Derin Öğrenme dersi._\n",
        "\n",
        "Öncelikle ağımızdan ileriye doğru, daha sonra özellikle _**W1**_ ağırlığından ne kadar hata olduğunu hesaplamak için geriye doğru bir yayılım yapıyoruz.\n",
        "\n",
        "Tanımladığınız her sinir ağı, bunu gördüğümüze benzer bir hesaplama grafiği olarak PyTorch _sees_ yapar ve her düğüm tarafından gerçekleştirilen tüm işlemleri izler. Bu, geriye doğru yayılımı yaparken doğrusal gradyanların hesaplanmasını sağlar.\n",
        "\n",
        "PyTorch ile ilgili en iyi şey, bu hesaplamalı grafikleri anında oluşturmasıdır! Ve bu özellik PyTorch'u ve son derece esnek **(pythonic)** derin öğrenme kütüphanesini yapar.\n",
        "\n",
        "![Dynamic Computational Graphs](https://cdn.analyticsvidhya.com/wp-content/uploads/2019/09/dynamic_graph.gif \"PyTorch building dynamic computational graphs on the fly\")"
      ]
    },
    {
      "cell_type": "markdown",
      "metadata": {
        "id": "HNCoUgD7R-wL"
      },
      "source": [
        "####4.2.3 Tensörler\n",
        "Tensörler de dahil olmak üzere her derin öğrenme kütüphanesinin yapı taşlarıdır.\n",
        "\n",
        "Tensörler nedir?  \n",
        "x,y,z boyutu olan veriler diyebiliriz.\n",
        "\n",
        "<img src=\"https://drive.google.com/uc?id=1F5cLclu4RML7zj7axf8IGU7aUXJlI7N0 \" width=40% />\n",
        "\n",
        "PyTorch'ta tensörler oluşturmak kolaydır\n",
        "```\n",
        "import torch\n",
        "x = torch.rand(3, 3)\n",
        "print(x)\n",
        "\n",
        ">>Prints out:\n",
        ">>tensor([[0.5264, 0.1839, 0.9907],\n",
        ">>        [0.0343, 0.9839, 0.9294],\n",
        ">>        [0.6938, 0.6755, 0.2258]])\n",
        "```\n",
        "PyTorch'taki tensörler tam olarak numpy dizilerine benzer, ancak onları gerçekten çok hızlı yapan bir GPU'da da çalıştırabilir!  \n",
        "```\n",
        "torch.FloatTensor([[20, 30, 40], [90, 60, 70]]) # CPU üzerinde Tensor\n",
        "torch.cuda.FloatTensor([[20, 30, 40], [90, 60, 70]]) # GPU üzerinde Tensor\n",
        "```\n",
        "Tensörleri (ve karmaşık derin öğrenme modellerini) bir GPU'ya (veya CPU'ya) taşımak PyTorch'ta oldukça basittir.\n",
        "```\n",
        "x = torch.FloatTensor([[20, 30, 40], [90, 60, 70]]) # CPU üzerinde Tensor\n",
        "print('Is tensor x on GPU?', x.is_cuda) # False\n",
        "x = x.to('cuda') # GPU'ya geçme\n",
        "print('Is tensor x on GPU?', x.is_cuda) # True\n",
        "x = x.to('cpu') # Tekrar CPU'ya dönme\n",
        "print('Is tensor x on GPU?', x.is_cuda) # False\n",
        "```"
      ]
    },
    {
      "cell_type": "markdown",
      "metadata": {
        "id": "E0VnwmbZVrLW"
      },
      "source": [
        "####4.2.4 Autograd Modülü\n",
        "\n",
        "**Autograd**, PyTorch'taki gerçek rockstar modülüdür.\n",
        "\n",
        "Autograd, bir tensör üzerinde yapılan tüm işlemleri takip eden ve **Otomatik Gradyan** - _(Automatic  \n",
        "Differentiation)_ adı verilen bir teknikle hesaplayan modüldür.\n",
        "\n",
        "Bir tensörde hesaplama geçmişini etkinleştirmek için, _**`.requires_grad`**_ değerini _**`True`**_ olarak ayarlamalısınız. Bir tensörü hesaplama geçmişinden ayırmak için _**`.detach()`**_ öğesini çağırmalısınız.\n",
        "\n",
        "Autograd'ın hesaplamaların geçmişini derin bir öğrenme modelinde tutmasını durdurmak için, _**`torch.no_grad():`**_ kullanlamalısınız. Bu genellikle çıkarım sırasında yapılır.\n",
        "\n",
        "```\n",
        "with torch.no_grad():\n",
        "```"
      ]
    },
    {
      "cell_type": "markdown",
      "metadata": {
        "id": "9S0uLBsCZqjG"
      },
      "source": [
        "####4.2.5 nn.Module  \n",
        "\n",
        "PyTorch'taki **nn modülü**, sinir ağlarını 'oluşturmak' için kullanılır ve tüm derin öğrenme katmanlarını içerir. Gradyanları hesaplamak açıkça autograd modülüne bağlıdır.\n",
        "\n",
        "Özel modellerimizi PyTorch'ta tanımlarken, nn.Module sınıfını alt sınıflara ayırırız ve `__init__()` ve f`forward()` fonksiyonlarnı geçersiz kılar.\n",
        "1. `__init__()` - Bu, ağımızın katmanlarını tanımladığımız yerdir.\n",
        "2. `forward()` - Bu, katmanları gerçekten birbirine bağladığınız ve her şeyin çalışmasını sağlayan yerdir.\n",
        "\n",
        "Bu biraz kafa karıştırıcı geliyorsa endişelenmeyin, `nn.Module`'u çok yakında göreceğiz!"
      ]
    },
    {
      "cell_type": "markdown",
      "metadata": {
        "id": "y0MkS6OadYRQ"
      },
      "source": [
        "####4.2.6 Optim Paketi\n",
        "The optim package in PyTorch contains the optimization algorithms that help   \n",
        "to train your network.  \n",
        "\n",
        "PyTorch'daki Optim paketi ağı eğitmek için yardımcı olan optimizasyon algoritmalarını içeriyor.\n",
        "\n",
        "Basit bir örnek,\n",
        "\n",
        "`optimizer = torch.optim.Adam(model.parameters(), lr=learning_rate)`  \n",
        "\n",
        "\n",
        "Her zaman daha fazla kaynak isteriz (:\n",
        "<br/>[Pranjal'ın favori kaynağı: 'Intro to PyTorch'](https://towardsdatascience.com/understanding-pytorch-with-an-example-a-step-by-step-tutorial-81fc5f8c4e8e \"Understanding PyTorch with an example: a step-by-step tutorial\")  \n",
        "[- PyTorch Tutorial Part 1](https://blog.paperspace.com/pytorch-101-understanding-graphs-and-automatic-differentiation/ \"PyTorch 101, Part 1: Understanding Graphs, Automatic Differentiation and Autograd\")  \n",
        "[- PyTorch Tutorial Part 2](https://blog.paperspace.com/pytorch-101-building-neural-networks/ \"PyTorch 101, Part 2: Building Your First Neural Network\")  \n",
        "[- PyTorch Tutorial Part 3](https://blog.paperspace.com/pytorch-101-advanced/ \"PyTorch 101, Part 3: Going Deep with PyTorch\")  \n",
        "[- PyTorch Tutorial Part 4](https://blog.paperspace.com/pytorch-memory-multi-gpu-debugging/ \"PyTorch 101, Part 4: Memory Management and Using Multiple GPUs\")  \n",
        "[- PyTorch Tutorial Part 5](https://blog.paperspace.com/pytorch-hooks-gradient-clipping-debugging/ \"PyTorch 101, Part 5: Understanding Hooks\")  \n",
        "[Stunning Insight into the Internals of PyTorch](http://blog.ezyang.com/2019/05/pytorch-internals/ \"PyTorch Internals\")"
      ]
    },
    {
      "cell_type": "markdown",
      "metadata": {
        "id": "wYblCGur448H"
      },
      "source": [
        "####4.3 Modelimizi tanımlama zamanı!\n",
        "Ancak model tanımına başlamadan önce, PyTorch Dokümanlarının Evrişimli Sinir Ağları hakkında ne söylediğine bakalım.  \n",
        "\n",
        "<img src=\"https://drive.google.com/uc?id=1odHZIXURYjogjUcyCQ56RYfQPqgzO7DX\" width=70% />\n",
        "\n",
        "\n",
        "<br/> Ayrıca MaxPool, Dropout ve Lineer Katmanları da kontrol etmeliyiz.\n",
        "\n",
        "<img src=\"https://drive.google.com/uc?id=1r1EeLHrV5oAG4OUyRSm0lw2OcZyJQ7ne\" width=70% />\n",
        "\n",
        "<img src=\"https://drive.google.com/uc?id=1kYgb4wDrGEBEF5WB169N7Q5hTrwDDO1d\" width=70% />\n",
        "\n",
        "<img src=\"https://drive.google.com/uc?id=1rrIEqPtun_8Td1js76B2hv22Xm5tjY6m\" width=70% />\n",
        "\n",
        "  "
      ]
    },
    {
      "cell_type": "markdown",
      "metadata": {
        "id": "q0zv4wi7BNRL"
      },
      "source": [
        "**Conv2d** ve **Linear** katmanlarda garip bir anormallik fark ettiniz mi?\n",
        "```\n",
        "torch.nn.Conv2d(in_channels, out_channels, kernel_size, stride=1, padding=0, dilation=1, groups=1, bias=True, padding_mode='zeros')\n",
        "```  \n",
        "```\n",
        "torch.nn.Linear(in_features, out_features, bias=True)\n",
        "```"
      ]
    },
    {
      "cell_type": "markdown",
      "metadata": {
        "id": "jrhOYd8JTQ-B"
      },
      "source": [
        "Conv2d katmanı `in_channels`, Linear katmanı `in_features` istiyor.\n",
        "\n",
        "Sonuç olarak, PyTorch bir tensör boyutundan farklı şeyler beklemektedir.\n",
        "\n",
        "Ne gibi derseniz;\n",
        "\n",
        "```\n",
        "\"\"\"Örnek tensör boyutu çıktıları, PyTorch'un bunları nasıl okuduğu ve vahşi doğada karşılaştığınız yer.\n",
        "Not: Aşağıdaki değerler sadece örnektir. Tensörün rankına odaklan (kaç boyutu var).\"\"\"\n",
        ">>> torch.Size([32])\n",
        "    # 1d: [batch_size]\n",
        "    # hedef etiketleri ya da kestirimi kullan.\n",
        ">>> torch.Size([12, 256])\n",
        "    # 2d: [batch_size, num_features (aka: C * H * W)]\n",
        "    # Giriş olarak nn.Linear() kullan.\n",
        ">>> torch.Size([10, 1, 2048])\n",
        "    # 3d: [batch_size, channels, num_features (aka: H * W)]\n",
        "    # nn.Conv1d() giriş olarak kullandığında.\n",
        "    # (fakat [seq_len, batch_size, num_features]\n",
        "    # RNN'i besliyorsa).\n",
        ">>> torch.Size([16, 3, 28, 28])\n",
        "    # 4d: [batch_size, channels, height, width]\n",
        "    # nn.Conv2d() giriş olarak kullan.\n",
        ">>>  torch.Size([32, 1, 5, 15, 15])\n",
        "    # 5d: [batch_size, channels, depth, height, width]\n",
        "    # nn.Conv3d() giriş olarak kullan.\n",
        "```    \n",
        "Tensörlerinizi doğrusal katman için hazır hale getirmek için temiz bir yöntem,  \n",
        "```\n",
        "Tensörünüzün boyutlarını değiştirmek için view () öğesini kullanın.\n",
        "\n",
        "image = image.view(batch_size, -1)\n",
        "\n",
        "Batch_size'nizi ilk sayı olarak veriyorsunuz ve daha sonra “-1” temelde Pytorch'a “lütfen, benim için bu diğer sayıyı anlıyorsun… ” diyorsunuz.\n",
        "Tensörünüz artık herhangi bir doğrusal katmana düzgün şekilde beslenecektir.\n",
        "```\n",
        "\n",
        "[PyTorch Katman Boyutlarını Anlatan Harika Bir Kaynak](https://towardsdatascience.com/pytorch-layer-dimensions-what-sizes-should-they-be-and-why-4265a41e01fd \"Eye opener of an article, must read!\")"
      ]
    },
    {
      "cell_type": "markdown",
      "metadata": {
        "id": "ouQTXZetn53I"
      },
      "source": [
        "Başlamadan önce yine kendimizi bir sorguya çekelim;\n",
        "\n",
        "1. Görüntülerimizin şekli (boyutları) nedir? (shape / dimesions)\n",
        "2. Bacth boyutumuz nedir?\n",
        "3. Görüntülerimizde kaç _'kanal'_ vardır? (channels)\n",
        "\n",
        "<img src=\"https://drive.google.com/uc?id=193KFtV2hr-7VkhQUJxd36oCF6Ms12xwD\" width=40% />\n"
      ]
    },
    {
      "cell_type": "code",
      "metadata": {
        "id": "I-McCK6u3WnN"
      },
      "source": [
        "import torch.nn as nn # nn modülü tüm katmanları içerir\n",
        "import torch.nn.functional as F # nn ile aynı, fakat küçük bir fark var"
      ],
      "execution_count": null,
      "outputs": []
    },
    {
      "cell_type": "code",
      "metadata": {
        "id": "AtUDongrrJlj"
      },
      "source": [
        "# CNN Mimarisi\n",
        "# Sadece Evrişi, Lİneer ve Dropout katmanları ile basit bir mimari oluşturalım\n",
        "class MNISTModel1(nn.Module):\n",
        "    # Burada sinir mimarisini tanımlıyoruz\n",
        "    def __init__(self):\n",
        "        super(MNISTModel1, self).__init__() # nn module başlangıç\n",
        "\n",
        "        # Evrişim Katmanları\n",
        "        # İlk katmanın hangi şekli / boyutları (shape / dimension) göreceğini biliyor muyuz?\n",
        "        # Bir kernel_size = 3 için biraz piksel eklemeye (padding) ihtiyacımız var mı?\n",
        "        # Giriş Öznitelikleri = 1 x 28 x 28\n",
        "        # Çıkış Öznitelikleri = ???\n",
        "        # Evrişim katmanının boyutları   = (W - K + 2P)\n",
        "        #                                  ------------ + 1\n",
        "        #                                       S\n",
        "        # burada,\n",
        "        #       W = Önceki katmanın Yükseklik/Genişlik = 28\n",
        "        #       K = Filtre Boyutu = 3\n",
        "        #       P = Piksel ekleme (Padding) = 0\n",
        "        #       S = Adım Aralığı (Stride) = 1(default)\n",
        "        # Bu nedenler,\n",
        "        #           Eğer piksel ekleme = 0\n",
        "        #           Çıkış şekli (shape) = ((28 - 3 + 2*0)/1)+1 = 26\n",
        "        # Evrişimi gerçekleştirirken hiçbir bilgi kaybının olmaması için boyutların aynı kalmasını istiyoruz.\n",
        "        # Bundan dolayı,\n",
        "        #       Eğer piksel ekleme = 1\n",
        "        #       Çıkış şeli = ((28 - 3 + 2*1)/1)+1 = 28\n",
        "        self.conv1 = nn.Conv2d(in_channels=1, out_channels=8, kernel_size=3, \\\n",
        "                               stride=1, padding=1) # Çıkış Öznitelileri = 8 x 28 x 28\n",
        "        # Giriş Öznitelikleri = 8 x 28 x 28\n",
        "        # Çıkış Öznitelikleri = 16 x 28 x 28 | ((28 - 3 + 2*1)/1)+1 = 28\n",
        "        self.conv2 = nn.Conv2d(in_channels=8, out_channels=16, kernel_size=3, \\\n",
        "                               stride=1, padding=1)\n",
        "\n",
        "        # Lineer/Doğrusal Katmanlar\n",
        "        # İlk doğrusal katmanın şekli nasıl olacak?\n",
        "        # Conv2 tarafından verilen toplam özellik sayısı nedir?\n",
        "        # Öznitelikler = 16 x 28 x 28 = 12544\n",
        "        # Bu sebeple\n",
        "        self.linear1 = nn.Linear(in_features=12544, out_features=256)\n",
        "        self.linear2 = nn.Linear(in_features=256, out_features=64)\n",
        "        # Son lineer/doğrual katman, görüntüleri 10 kategoride sınıflandırdığımız için 10 özellik çıkarmalıdır\n",
        "        self.linear3 = nn.Linear(in_features=64, out_features=10)\n",
        "\n",
        "        # Dropout\n",
        "        self.dropout = nn.Dropout(p=0.25)\n",
        "\n",
        "    # Burada nöral mimarimizin 'ileri davranışını' tanımlıyoruz\n",
        "    def forward(self, image_batch):\n",
        "        # Burası aynı zamanda AKTİVASYON fonksiyonlarını eklediğimiz yerdir\n",
        "        image_batch = F.relu(input=self.conv1(image_batch))\n",
        "        image_batch = F.relu(input=self.conv2(image_batch))\n",
        "\n",
        "\n",
        "        # image_batch öğesini Lineer katmanlardan geçirirken PyTorch'un şunları beklediğini unutmayın:\n",
        "        # >>> torch.Size([12, 256]) -> Örnek değerler\n",
        "            # 2d: [batch_size, num_features (aka: C * H * W)]\n",
        "            # nn.Linear() giriş olarak kullanılır.\n",
        "        # Bu nedenle, 'flatten' image_batch ihtiyaç duyarız.\n",
        "        # image_batch = image_batch.view(batch_size, -1) --> batch boyutu ne olabilir ???\n",
        "        flat_image_batch = image_batch.view(image_batch.shape[0], -1)\n",
        "        flat_image_batch = F.relu(input=self.linear1(flat_image_batch))\n",
        "        # Buraya da bir dropout ekleyelim!\n",
        "        flat_image_batch = self.dropout(F.relu(input=self.linear2(flat_image_batch)))\n",
        "        # Ağın son lineer kaymanları\n",
        "        flat_image_batch = F.relu(input=self.linear3(flat_image_batch))\n",
        "        # Son katmandan elde edilen çıktı 10 'logit' ile bir tensördür\n",
        "        return flat_image_batch"
      ],
      "execution_count": null,
      "outputs": []
    },
    {
      "cell_type": "markdown",
      "metadata": {
        "id": "HEPNIgRiS9FN"
      },
      "source": [
        "Şimdi modelimizi tanımladığımıza göre, neler olup bittiğini ve her şeyin yolunda olduğunu görmek için içeriyi kontrol edip, bakabilmemizin bir yolu var mı?\n",
        "Tabi ki var!\n",
        "\n",
        " _**[torchsummary](https://github.com/sksq96/pytorch-summary \"Click to visit GitHub Page\")**_'ye merhaba diyin!!!"
      ]
    },
    {
      "cell_type": "code",
      "metadata": {
        "id": "hHTtCrNxQ_X7",
        "outputId": "b98f9ca4-0b7d-4820-8a47-66fc45208818",
        "colab": {
          "base_uri": "https://localhost:8080/",
          "height": 34
        }
      },
      "source": [
        "# Torchsummary kuralım ve bazı harika şeyler yapalım\n",
        "!pip install torchsummary # https://github.com/sksq96/pytorch-summary"
      ],
      "execution_count": null,
      "outputs": [
        {
          "output_type": "stream",
          "text": [
            "Requirement already satisfied: torchsummary in /usr/local/lib/python3.6/dist-packages (1.5.1)\n"
          ],
          "name": "stdout"
        }
      ]
    },
    {
      "cell_type": "code",
      "metadata": {
        "id": "NylWMGTf1QbN"
      },
      "source": [
        "from torchsummary import summary"
      ],
      "execution_count": null,
      "outputs": []
    },
    {
      "cell_type": "code",
      "metadata": {
        "id": "DtUFlNAd5lhN",
        "outputId": "fee073e6-8d14-49de-809b-873e4c594bec",
        "colab": {
          "base_uri": "https://localhost:8080/",
          "height": 357
        }
      },
      "source": [
        "# Burada yanlış bir şey yapıp yapmadığımızı anlamak için meşale kütüphanesini kullanabiliriz\n",
        "\n",
        "# Ama önce PyTorch'a modeli nerede 'tutacağını' söylememiz gerekiyor\n",
        "# GPU'da veya CPU'da\n",
        "device = torch.device(\"cuda\" if torch.cuda.is_available() else \"cpu\")\n",
        "print('The model will run on', device)\n",
        "\n",
        "# Modeli Başlatma\n",
        "mnist1 = MNISTModel1().to(device)\n",
        "summary(model=mnist1, input_size=(1, 28, 28), batch_size=20) # Özet (Summarize)"
      ],
      "execution_count": null,
      "outputs": [
        {
          "output_type": "stream",
          "text": [
            "The model will run on cuda\n",
            "----------------------------------------------------------------\n",
            "        Layer (type)               Output Shape         Param #\n",
            "================================================================\n",
            "            Conv2d-1            [20, 8, 28, 28]              80\n",
            "            Conv2d-2           [20, 16, 28, 28]           1,168\n",
            "            Linear-3                  [20, 256]       3,211,520\n",
            "            Linear-4                   [20, 64]          16,448\n",
            "           Dropout-5                   [20, 64]               0\n",
            "            Linear-6                   [20, 10]             650\n",
            "================================================================\n",
            "Total params: 3,229,866\n",
            "Trainable params: 3,229,866\n",
            "Non-trainable params: 0\n",
            "----------------------------------------------------------------\n",
            "Input size (MB): 0.06\n",
            "Forward/backward pass size (MB): 2.93\n",
            "Params size (MB): 12.32\n",
            "Estimated Total Size (MB): 15.31\n",
            "----------------------------------------------------------------\n"
          ],
          "name": "stdout"
        }
      ]
    },
    {
      "cell_type": "markdown",
      "metadata": {
        "id": "kyTvkdq3gqHM"
      },
      "source": [
        "Vay be, baya bir iş yaptık şu sıraya kadar!\n",
        "\n",
        "**Soru:** _Modeli 2020'de tanımlamanın '_daha kolay_' bir yolu yok mu?_\n",
        "**Cevap**: _Evet, kesinlikle!_\n",
        "\n",
        "O zaman, **[torchlayers kütüphanesine !!!](https://github.com/szymonmaszke/torchlayers)** merhaba de!\n",
        "\n",
        "**torchlayers** ile yukarıdaki kod yaklaşık 7-8 satıra indirilecek!\n",
        "Ancak maalesef **torchlayers** Python 3.7 ve üstü versiyonlara ihtiyaç duyar. Google Colab yalnızca Python 3.6.x'i destekler.\n"
      ]
    },
    {
      "cell_type": "markdown",
      "metadata": {
        "id": "YljS2tiRlHql"
      },
      "source": [
        "Model tanımımızı tamamlandığında eğitime başlayabiliriz!"
      ]
    },
    {
      "cell_type": "markdown",
      "metadata": {
        "id": "f08VsPbPn5bO"
      },
      "source": [
        "### 5. 2020'de bir PyTorch Modeli Eğitelim   \n",
        "\n",
        "PyTorch yeni başlayanlar arasında _'eğitim döngüleri (training loops)'_ ile ünlüdür. Uzun ve bazen biraz kafa karıştırıcı olabilirler. Ancak, çoğu benzer ve eğitim döngüleri sadece sıkıcı ve tekrarlayan işler ortaya çıkıyor.\n",
        "\n",
        "**Soru:** _Pekibu 2020 ile daha iyi bir yol var mı?_\n",
        "**Cevap:** _Evet, yine kesinlikle!_\n",
        "\n",
        "_**[Poutyne !!!](https://poutyne.org/index.html \"How do you pronounce this?\")**_ merhaba deyebilirsin!\n",
        "\n",
        "_Poutyne_ sayesinde, PyTorch'da eğitim döngüleri yazmak  bir **HARİKA DOSTUM** :)\n",
        "\n",
        "Not - Poutyne: Poutine veya Pu-tin olarak telaffuz edilir. Evet bildiğimiz _Putin_ gibi (:  \n"
      ]
    },
    {
      "cell_type": "code",
      "metadata": {
        "id": "9gpy_1cRZ6gV",
        "outputId": "d23fd291-1933-4d61-a444-7345707ab801",
        "colab": {
          "base_uri": "https://localhost:8080/",
          "height": 156
        }
      },
      "source": [
        "# Poutyne Yükleme\n",
        "!pip install poutyne"
      ],
      "execution_count": null,
      "outputs": [
        {
          "output_type": "stream",
          "text": [
            "Collecting poutyne\n",
            "\u001b[?25l  Downloading https://files.pythonhosted.org/packages/d8/83/6beb7cc2206e429342fa6385f92e1eccf1d2af8f4cbcdc5e7402cf65a5c5/Poutyne-0.7.2-py3-none-any.whl (75kB)\n",
            "\r\u001b[K     |████▎                           | 10kB 26.4MB/s eta 0:00:01\r\u001b[K     |████████▋                       | 20kB 3.1MB/s eta 0:00:01\r\u001b[K     |█████████████                   | 30kB 4.5MB/s eta 0:00:01\r\u001b[K     |█████████████████▎              | 40kB 3.0MB/s eta 0:00:01\r\u001b[K     |█████████████████████▋          | 51kB 3.6MB/s eta 0:00:01\r\u001b[K     |██████████████████████████      | 61kB 4.3MB/s eta 0:00:01\r\u001b[K     |██████████████████████████████▏ | 71kB 5.0MB/s eta 0:00:01\r\u001b[K     |████████████████████████████████| 81kB 3.9MB/s \n",
            "\u001b[?25hRequirement already satisfied: torch in /usr/local/lib/python3.6/dist-packages (from poutyne) (1.4.0)\n",
            "Requirement already satisfied: numpy in /usr/local/lib/python3.6/dist-packages (from poutyne) (1.18.2)\n",
            "Installing collected packages: poutyne\n",
            "Successfully installed poutyne-0.7.2\n"
          ],
          "name": "stdout"
        }
      ]
    },
    {
      "cell_type": "code",
      "metadata": {
        "id": "LnHdjqkhdzLb"
      },
      "source": [
        "from poutyne.framework import Model # Poutyne'in temel yapısı\n",
        "                                    # https://poutyne.org/model.html"
      ],
      "execution_count": null,
      "outputs": []
    },
    {
      "cell_type": "code",
      "metadata": {
        "id": "GHVhp0yEiFfs"
      },
      "source": [
        "from torch import optim # Optimizer: ağımızı eğitmek için buna ihtiyacımız var"
      ],
      "execution_count": null,
      "outputs": []
    },
    {
      "cell_type": "code",
      "metadata": {
        "id": "-EwMBpBtKE7w"
      },
      "source": [
        "# Pouytne eğitim döngüsü (Training loop)\n",
        "\n",
        "# Eğtim döngüsü için birkaç hiperparametre\n",
        "learning_rate = 0.1\n",
        "epochs = 3\n",
        "\n",
        "def poutyne_train(pytorch_model):\n",
        "\n",
        "    # Optimizasyon ve yitim fonksiyonu seçimi\n",
        "    optimizer = optim.SGD(pytorch_model.parameters(), lr=learning_rate)\n",
        "    loss_function = nn.CrossEntropyLoss()\n",
        "    # Poutyne Model\n",
        "    model = Model(pytorch_model, optimizer, loss_function, batch_metrics=['accuracy'])\n",
        "    # GPU / CPU'da 'Poutyne modelini' hangisi varsa gönderir\n",
        "    model.to(device)\n",
        "    # Eğitim\n",
        "    model.fit_generator(train_loader, valid_loader, epochs=epochs)\n",
        "    # Test\n",
        "    test_loss, test_acc = model.evaluate_generator(test_loader)\n",
        "    print(f'Test:\\n\\tLoss: {test_loss: .3f}\\n\\tAccuracy: {test_acc: .3f}')\n",
        "\n",
        "    return None"
      ],
      "execution_count": null,
      "outputs": []
    },
    {
      "cell_type": "code",
      "metadata": {
        "id": "_znXT5djwzeY",
        "outputId": "639aab5f-145a-4ebb-d527-7066f017b6c8",
        "colab": {
          "base_uri": "https://localhost:8080/",
          "height": 119
        }
      },
      "source": [
        "# Hadi bakalım eğitim işine başlayalım!!!\n",
        "poutyne_train(mnist1)"
      ],
      "execution_count": null,
      "outputs": [
        {
          "output_type": "stream",
          "text": [
            "Epoch 1/3 16.01s Step 2400/2400: loss: 0.342596, acc: 89.445833, val_loss: 0.096018, val_acc: 97.158333\n",
            "Epoch 2/3 15.87s Step 2400/2400: loss: 0.087885, acc: 97.460417, val_loss: 0.082563, val_acc: 97.491667\n",
            "Epoch 3/3 15.92s Step 2400/2400: loss: 0.056189, acc: 98.331250, val_loss: 0.066836, val_acc: 98.108333\n",
            "Test:\n",
            "\tLoss:  0.056\n",
            "\tAccuracy:  98.340\n"
          ],
          "name": "stdout"
        }
      ]
    },
    {
      "cell_type": "markdown",
      "metadata": {
        "id": "wqforBpLr0dk"
      },
      "source": [
        "_**TEBRİKLER!!!**_\n",
        "\n",
        "İlk (belki değil?) CNN Modelinizi eğitmiş bulunmaktasınız!\n",
        "\n",
        "_Doğruluk da oldukça iyi görünüyor!_\n",
        "\n"
      ]
    },
    {
      "cell_type": "markdown",
      "metadata": {
        "id": "hakTX49k5wnW"
      },
      "source": [
        "### 6. Aşırı Uydurma/Öğrenme (Ezberleme) ya da Overfitting naıl birşeydir anlayalım\n",
        "\n",
        "Daha ileri gitmeden önce Makine Öğrenimi modellerinde Aşırı Uydurma kavramını anlamamız gerekir.\n",
        "\n",
        "Aşırı Uydurma nedir?\n",
        "Bias ve Varyans arasındaki ilişkidir özetle. Yüksek bias iyi bir sınıflandırma yapılamadığı düşük bias da geneleştirilemeyen bir sınıflandırma yapıldığı yani aşırı uydurulduğu (overfit olduğu) anlamına gelir.\n",
        "\n",
        "<img src=\"https://i.hizliresim.com/WdFMle.png\" width=60% />\n",
        "\n",
        "\n",
        "---\n",
        "\n",
        "\n",
        "\n",
        "---\n",
        "\n",
        "\n",
        "\n",
        "Bu videoda da konuyu detaylarıyla anlatıyorum: [Yapay Öğrenme Modelleri Geliştirirken Karşılaşılan Sorunlar & Çözümleri (Part1)](https://www.youtube.com/watch?v=gbzwtZGrkrQ&t=4s)\n",
        "\n"
      ]
    },
    {
      "cell_type": "markdown",
      "metadata": {
        "id": "gnE0htQzVRAs"
      },
      "source": [
        "Her zaman modellerimizin hem düşük varyanslı hem düşük bir biasa (yanlılığa) sahip olmasını sağlamak istiyoruz.\n",
        "\n",
        "Ancak, çok uzun süre (çok fazla epoch) eğitim yaparsak\n",
        "modelin aşırı uygudurmaya gittiğini nasıl belirleyebiliriz?\n",
        "\n",
        "Güzel ve önemli ve bir o kadar da temel bir bilgi ile cevap verebileceğiniz bir soru!\n",
        "\n",
        "<img src=\"https://i.hizliresim.com/Qh2M0l.png\" width=60% />\n",
        "\n",
        "Test örnekleri ile ya da validasyon örnekleri ile, modeli eğitin sonuçlarını gösteren grafiğin makasa yaptığı yer bizim için ideal eğitim süresini vermektedir. Burada eğitimi durdurmalıyız. Bunun muhtemelen bildiğiniz ya da duyduğunuz adı **Early Stopping** Uygun model karmaşıklığı, uygun eğitim süresi ve minimum hatayı başka hiç birşeyi optimize etmezseniz bu şekilde yakalayabilirsiniz.\n",
        "\n",
        "---\n",
        "\n",
        "* _Evet başka hiç birşeyi optimize etmezseniz. Eğer neleri  optimize edebileceğinizi öğrenmek isterseniz bir yukardaki videoyu izleyebilirsiniz ;)_\n",
        "\n",
        "* **Ayrıca şu repoya da göz atmanızı tavsiye ederim --> [Basit Bir Öğrenme Modelinde Aşırı Öğrenme/Uydurma (Overfitting) Probleminin Çözümü](https://github.com/ayyucekizrak/Udemy_DerinOgrenmeyeGiris/tree/master/Asiri_Uydurma_(Overfitting)_ve_Erken_Durdurma_(Early_Stopping))**\n",
        "\n",
        "\n",
        "\n",
        "---\n",
        "\n",
        "\n",
        "\n",
        "---\n",
        "\n"
      ]
    },
    {
      "cell_type": "markdown",
      "metadata": {
        "id": "nhvAC7xGapnU"
      },
      "source": [
        "Aşırı uygurma yani overfitting problemi yaşayıp yaşamadığınızı size anlatacak güzel bir matris:\n",
        "\n",
        "<img src=\"https://i.hizliresim.com/AzebhO.png\" width=60% />\n",
        "\n",
        "Yukarıdaki matrisi hazırlarken, yazar sadece iki seti, eğitim ve testi (Derin Öğrenme için sahte (faux) geçişi!) Dikkate almıştır. Bir _**doğrulama/geçerleme yani validasyon**_ kullanılanarak modelin ideail eğitimini takip edebilirsiniz."
      ]
    },
    {
      "cell_type": "markdown",
      "metadata": {
        "id": "5qlOIi5RaeVI"
      },
      "source": [
        "_**Aşırı Uydurmayı / Overfitting**_ nasıl önleyebiliriz?\n",
        "\n",
        "1. Daha basit bir model kullanın (daha az katman)\n",
        "2. Dropout kullanın\n",
        "3. Daha fazla eğitim verisi alın (mümkünse)\n",
        "4. Verileri artırın ve gürültü ekleyin\n",
        "5. Erken Durma / Early Stopping\n",
        "Not - Herşey bunlarla da sınırlı olmayabilir!\n",
        "\n",
        "<br/>Pekala, şimdi daha iyi bir eğitim döngüsü yazabilir miyiz?\n"
      ]
    },
    {
      "cell_type": "markdown",
      "metadata": {
        "id": "10dxUCy3iR0A"
      },
      "source": [
        "### 7. Daha İyi Bir Eğitim Döngüsü\n",
        "\n",
        "Daha iyi bir _Eğitim Döngüsü_ yazmak için eğitim sırasında Erken Durma ve modeli kaydetme bilgimizi birleştiriyoruz.\n",
        "\n",
        "Poutyne'deki [Callbacks](https://poutyne.org/callbacks.html# \"Click to visit link\")'i Erken Durdurmayı dahil etmek ve her epoch'dan sonra modeli kaydetmek için kullanıyoruz.\n"
      ]
    },
    {
      "cell_type": "code",
      "metadata": {
        "id": "hLajWBECiXsI"
      },
      "source": [
        "from poutyne.framework import ModelCheckpoint # Eğitim sırasında eğitimlen modeli kaydeder\n",
        "                                              # https://poutyne.org/callbacks.html#checkpointing\n",
        "from poutyne.framework import EarlyStopping # Bunun ne yağtığını biliyorsunuz! ;)\n",
        "                                            # https://poutyne.org/callbacks.html#poutyne.framework.callbacks.EarlyStopping"
      ],
      "execution_count": null,
      "outputs": []
    },
    {
      "cell_type": "code",
      "metadata": {
        "id": "icK1WbNHr-ud"
      },
      "source": [
        "# Pouytne kullanrak eğitim döngüsünü başlatalım\n",
        "# GPU'yu aktif edelim\n",
        "\n",
        "# Eğitim için gerekli birkaç parametreyi ekleyelim\n",
        "learning_rate = 0.1\n",
        "epochs = 10 # Callback çalışırken görmek için daha fazla epoch için eğitimi seçelim\n",
        "\n",
        "def better_poutyne_train(model_name, pytorch_model):\n",
        "\n",
        "    callbacks = [\n",
        "        # Son ağırlıkları kaydeder\n",
        "        ModelCheckpoint(model_name + '_last_epoch.ckpt', \\\n",
        "                        temporary_filename='last_epoch.ckpt.tmp'),\n",
        "        # EarlyStopping - Erken Durdurma\n",
        "        EarlyStopping(monitor='val_acc', patience=0, verbose=True, mode='max')\n",
        "    ]\n",
        "\n",
        "    # Optimizasyon ve yitim fonksiyonunun seçimi\n",
        "    optimizer = optim.SGD(pytorch_model.parameters(), lr=learning_rate)\n",
        "    loss_function = nn.CrossEntropyLoss()\n",
        "    # Poutyne Model\n",
        "    model = Model(pytorch_model, optimizer, loss_function, batch_metrics=['accuracy'])\n",
        "    # 'Poutyne model'hangi donanım aktif ise ona yönlendirir (GPU bu eğitim için)\n",
        "    model.to(device)\n",
        "    # Eğitim\n",
        "    model.fit_generator(train_loader, valid_loader, epochs=epochs, callbacks=callbacks)\n",
        "    # Test\n",
        "    test_loss, test_acc = model.evaluate_generator(test_loader)\n",
        "    print(f'Test:\\n\\tLoss: {test_loss: .3f}\\n\\tAccuracy: {test_acc: .3f}')\n",
        "\n",
        "    return None"
      ],
      "execution_count": null,
      "outputs": []
    },
    {
      "cell_type": "code",
      "metadata": {
        "id": "QrxuV06YE2QV",
        "outputId": "8304d98f-46d2-459d-e254-8df765a7c3cf",
        "colab": {
          "base_uri": "https://localhost:8080/",
          "height": 289
        }
      },
      "source": [
        "# COLAB ipucu\n",
        "!nvidia-smi # Google tarafından atanan GPU'yu görmek için bu komutu kullabilirisniz"
      ],
      "execution_count": null,
      "outputs": [
        {
          "output_type": "stream",
          "text": [
            "Sun Apr 12 14:52:48 2020       \n",
            "+-----------------------------------------------------------------------------+\n",
            "| NVIDIA-SMI 440.64.00    Driver Version: 418.67       CUDA Version: 10.1     |\n",
            "|-------------------------------+----------------------+----------------------+\n",
            "| GPU  Name        Persistence-M| Bus-Id        Disp.A | Volatile Uncorr. ECC |\n",
            "| Fan  Temp  Perf  Pwr:Usage/Cap|         Memory-Usage | GPU-Util  Compute M. |\n",
            "|===============================+======================+======================|\n",
            "|   0  Tesla P100-PCIE...  Off  | 00000000:00:04.0 Off |                    0 |\n",
            "| N/A   34C    P0    32W / 250W |    769MiB / 16280MiB |      0%      Default |\n",
            "+-------------------------------+----------------------+----------------------+\n",
            "                                                                               \n",
            "+-----------------------------------------------------------------------------+\n",
            "| Processes:                                                       GPU Memory |\n",
            "|  GPU       PID   Type   Process name                             Usage      |\n",
            "|=============================================================================|\n",
            "+-----------------------------------------------------------------------------+\n"
          ],
          "name": "stdout"
        }
      ]
    },
    {
      "cell_type": "code",
      "metadata": {
        "id": "ffcjuFHa5v75",
        "outputId": "fdaecd26-40bb-41ab-da8f-0c72e1b3d528",
        "colab": {
          "base_uri": "https://localhost:8080/",
          "height": 340
        }
      },
      "source": [
        "# Yeni CNN Modelimisi başlatalım daha önce yaptığımız gibi\n",
        "mnist2 = MNISTModel1().to(device)\n",
        "summary(model=mnist2, input_size=(1, 28, 28), batch_size=20) # Model özeti"
      ],
      "execution_count": null,
      "outputs": [
        {
          "output_type": "stream",
          "text": [
            "----------------------------------------------------------------\n",
            "        Layer (type)               Output Shape         Param #\n",
            "================================================================\n",
            "            Conv2d-1            [20, 8, 28, 28]              80\n",
            "            Conv2d-2           [20, 16, 28, 28]           1,168\n",
            "            Linear-3                  [20, 256]       3,211,520\n",
            "            Linear-4                   [20, 64]          16,448\n",
            "           Dropout-5                   [20, 64]               0\n",
            "            Linear-6                   [20, 10]             650\n",
            "================================================================\n",
            "Total params: 3,229,866\n",
            "Trainable params: 3,229,866\n",
            "Non-trainable params: 0\n",
            "----------------------------------------------------------------\n",
            "Input size (MB): 0.06\n",
            "Forward/backward pass size (MB): 2.93\n",
            "Params size (MB): 12.32\n",
            "Estimated Total Size (MB): 15.31\n",
            "----------------------------------------------------------------\n"
          ],
          "name": "stdout"
        }
      ]
    },
    {
      "cell_type": "code",
      "metadata": {
        "id": "UTWPxL4Y6Avb",
        "outputId": "cc0caaf1-a894-4c7a-9963-afeec2141aa1",
        "colab": {
          "base_uri": "https://localhost:8080/",
          "height": 170
        }
      },
      "source": [
        "# Artık daha iyi bir eğitimi başlatmanın vakti geldi!.....yaklaşık 120 saniye sürecek GPU üzerinde\n",
        "# GPU'yu kullandığınıza emin olun\n",
        "better_poutyne_train(model_name='mnist2', pytorch_model=mnist2)"
      ],
      "execution_count": null,
      "outputs": [
        {
          "output_type": "stream",
          "text": [
            "Epoch 1/10 16.34s Step 2400/2400: loss: 0.378763, acc: 88.206250, val_loss: 0.089079, val_acc: 97.425000\n",
            "Epoch 2/10 16.27s Step 2400/2400: loss: 0.084743, acc: 97.583333, val_loss: 0.069561, val_acc: 97.966667\n",
            "Epoch 3/10 16.11s Step 2400/2400: loss: 0.055291, acc: 98.414583, val_loss: 0.060976, val_acc: 98.250000\n",
            "Epoch 4/10 15.91s Step 2400/2400: loss: 0.035527, acc: 98.935417, val_loss: 0.067967, val_acc: 98.216667\n",
            "Epoch 5/10 15.82s Step 2400/2400: loss: 0.028134, acc: 99.135417, val_loss: 0.060851, val_acc: 98.483333\n",
            "Epoch 00005: early stopping\n",
            "Test:\n",
            "\tLoss:  0.048\n",
            "\tAccuracy:  98.530\n"
          ],
          "name": "stdout"
        }
      ]
    },
    {
      "cell_type": "markdown",
      "metadata": {
        "id": "us0ZQ7nqBGUk"
      },
      "source": [
        "Güzel! Ama erken durdurma hakkında konuşurken size bu süslü grafikleri gösterdim.\n",
        "\n",
        "_**Şimdi bu grafikler nerede?!**_ (: Haklısınız hemen biraz daha alımlı hale getirelim şu eğitim meselesini.\n"
      ]
    },
    {
      "cell_type": "markdown",
      "metadata": {
        "id": "DYsQWympCOuv"
      },
      "source": [
        "###8. Daha Alımlı Bir Eğitim Döngüsü\n",
        "\n",
        "PyTorch ekosistemindeki üretkenliği artıran kütüphaneler söz konusu olduğunda Poutyne yalnız değildir.\n",
        "\n",
        "[LiveLossPlot !!!](https://github.com/stared/livelossplot \"Click to visit Github Repository\")'a merhaba deme vakti geldi!\n",
        "\n",
        "En iyi yanı da LiveLossPlot ve Poutyne'nin birbirleriyle uyumlu olması!\n"
      ]
    },
    {
      "cell_type": "code",
      "metadata": {
        "id": "Uiu2yYMU6hYX",
        "outputId": "cca45602-d166-4096-af8f-f46644661bfa",
        "colab": {
          "base_uri": "https://localhost:8080/",
          "height": 428
        }
      },
      "source": [
        "!pip install livelossplot"
      ],
      "execution_count": null,
      "outputs": [
        {
          "output_type": "stream",
          "text": [
            "Collecting livelossplot\n",
            "  Downloading https://files.pythonhosted.org/packages/7c/e4/a7884b57113dfe84d3565418820feae7a20964438beb1088b2b08820ad94/livelossplot-0.5.0-py3-none-any.whl\n",
            "Requirement already satisfied: matplotlib; python_version >= \"3.6\" in /usr/local/lib/python3.6/dist-packages (from livelossplot) (3.2.1)\n",
            "Requirement already satisfied: ipython in /usr/local/lib/python3.6/dist-packages (from livelossplot) (5.5.0)\n",
            "Requirement already satisfied: python-dateutil>=2.1 in /usr/local/lib/python3.6/dist-packages (from matplotlib; python_version >= \"3.6\"->livelossplot) (2.8.1)\n",
            "Requirement already satisfied: cycler>=0.10 in /usr/local/lib/python3.6/dist-packages (from matplotlib; python_version >= \"3.6\"->livelossplot) (0.10.0)\n",
            "Requirement already satisfied: pyparsing!=2.0.4,!=2.1.2,!=2.1.6,>=2.0.1 in /usr/local/lib/python3.6/dist-packages (from matplotlib; python_version >= \"3.6\"->livelossplot) (2.4.7)\n",
            "Requirement already satisfied: numpy>=1.11 in /usr/local/lib/python3.6/dist-packages (from matplotlib; python_version >= \"3.6\"->livelossplot) (1.18.2)\n",
            "Requirement already satisfied: kiwisolver>=1.0.1 in /usr/local/lib/python3.6/dist-packages (from matplotlib; python_version >= \"3.6\"->livelossplot) (1.2.0)\n",
            "Requirement already satisfied: traitlets>=4.2 in /usr/local/lib/python3.6/dist-packages (from ipython->livelossplot) (4.3.3)\n",
            "Requirement already satisfied: decorator in /usr/local/lib/python3.6/dist-packages (from ipython->livelossplot) (4.4.2)\n",
            "Requirement already satisfied: pexpect; sys_platform != \"win32\" in /usr/local/lib/python3.6/dist-packages (from ipython->livelossplot) (4.8.0)\n",
            "Requirement already satisfied: simplegeneric>0.8 in /usr/local/lib/python3.6/dist-packages (from ipython->livelossplot) (0.8.1)\n",
            "Requirement already satisfied: pygments in /usr/local/lib/python3.6/dist-packages (from ipython->livelossplot) (2.1.3)\n",
            "Requirement already satisfied: setuptools>=18.5 in /usr/local/lib/python3.6/dist-packages (from ipython->livelossplot) (46.1.3)\n",
            "Requirement already satisfied: pickleshare in /usr/local/lib/python3.6/dist-packages (from ipython->livelossplot) (0.7.5)\n",
            "Requirement already satisfied: prompt-toolkit<2.0.0,>=1.0.4 in /usr/local/lib/python3.6/dist-packages (from ipython->livelossplot) (1.0.18)\n",
            "Requirement already satisfied: six>=1.5 in /usr/local/lib/python3.6/dist-packages (from python-dateutil>=2.1->matplotlib; python_version >= \"3.6\"->livelossplot) (1.12.0)\n",
            "Requirement already satisfied: ipython-genutils in /usr/local/lib/python3.6/dist-packages (from traitlets>=4.2->ipython->livelossplot) (0.2.0)\n",
            "Requirement already satisfied: ptyprocess>=0.5 in /usr/local/lib/python3.6/dist-packages (from pexpect; sys_platform != \"win32\"->ipython->livelossplot) (0.6.0)\n",
            "Requirement already satisfied: wcwidth in /usr/local/lib/python3.6/dist-packages (from prompt-toolkit<2.0.0,>=1.0.4->ipython->livelossplot) (0.1.9)\n",
            "Installing collected packages: livelossplot\n",
            "Successfully installed livelossplot-0.5.0\n"
          ],
          "name": "stdout"
        }
      ]
    },
    {
      "cell_type": "code",
      "metadata": {
        "id": "SXlPkpKsTsfn"
      },
      "source": [
        "from livelossplot import PlotLossesPoutyne # Bu modül Poutyne ile konuşabilmektedir"
      ],
      "execution_count": null,
      "outputs": []
    },
    {
      "cell_type": "code",
      "metadata": {
        "id": "dLpRKgNOGWFK"
      },
      "source": [
        "# Şekil-Şükül bir Eğitim Döngüsünü Potyne de başlatıyoruz\n",
        "# Yine GPU kullanacağız\n",
        "\n",
        "# Yine eğitim için gerekli parametreleri belirliyoruz\n",
        "learning_rate = 0.1\n",
        "epochs = 10 # Callback'den faydalanacağız buna uygun bir epoch değeri seçiyoruz\n",
        "\n",
        "def fancy_poutyne_train(model_name, pytorch_model):\n",
        "\n",
        "    # livelossplot u callbackler için ayarlıyoruz\n",
        "    plotlosses = PlotLossesPoutyne()\n",
        "\n",
        "    callbacks = [\n",
        "        # Son ağırlıkları kaydediyoruz\n",
        "        ModelCheckpoint(model_name + '_last_epoch.ckpt', \\\n",
        "                        temporary_filename='last_epoch.ckpt.tmp'),\n",
        "        # EarlyStopping\n",
        "        EarlyStopping(monitor='val_acc', patience=0, verbose=True, mode='max'),\n",
        "        # Callbackleri LiveLossPlot a ekliyoruz\n",
        "        plotlosses\n",
        "    ]\n",
        "\n",
        "    # Yitim ve Optimizasyon Fonksiyonlarını seçiyoruz\n",
        "    optimizer = optim.SGD(pytorch_model.parameters(), lr=learning_rate)\n",
        "    loss_function = nn.CrossEntropyLoss()\n",
        "    # Poutyne Model\n",
        "    model = Model(pytorch_model, optimizer, loss_function, batch_metrics=['accuracy'])\n",
        "    # 'Poutyne model' i ilgili donanıma gönderiyoruz (Bu koşulda GPU)\n",
        "    model.to(device)\n",
        "    # Eğitim\n",
        "    model.fit_generator(train_loader, valid_loader, epochs=epochs, callbacks=callbacks)\n",
        "    # Test\n",
        "    test_loss, test_acc = model.evaluate_generator(test_loader)\n",
        "    print(f'Test:\\n\\tLoss: {test_loss: .3f}\\n\\tAccuracy: {test_acc: .3f}')\n",
        "\n",
        "    return None"
      ],
      "execution_count": null,
      "outputs": []
    },
    {
      "cell_type": "code",
      "metadata": {
        "id": "Bj9sG_AUUShG",
        "outputId": "12e17ae2-b5e9-4303-e852-268d67577433",
        "colab": {
          "base_uri": "https://localhost:8080/",
          "height": 340
        }
      },
      "source": [
        "# Yeni bir CNN modeli daha\n",
        "mnist3 = MNISTModel1().to(device)\n",
        "summary(model=mnist3, input_size=(1, 28, 28), batch_size=20) # ve özeti"
      ],
      "execution_count": null,
      "outputs": [
        {
          "output_type": "stream",
          "text": [
            "----------------------------------------------------------------\n",
            "        Layer (type)               Output Shape         Param #\n",
            "================================================================\n",
            "            Conv2d-1            [20, 8, 28, 28]              80\n",
            "            Conv2d-2           [20, 16, 28, 28]           1,168\n",
            "            Linear-3                  [20, 256]       3,211,520\n",
            "            Linear-4                   [20, 64]          16,448\n",
            "           Dropout-5                   [20, 64]               0\n",
            "            Linear-6                   [20, 10]             650\n",
            "================================================================\n",
            "Total params: 3,229,866\n",
            "Trainable params: 3,229,866\n",
            "Non-trainable params: 0\n",
            "----------------------------------------------------------------\n",
            "Input size (MB): 0.06\n",
            "Forward/backward pass size (MB): 2.93\n",
            "Params size (MB): 12.32\n",
            "Estimated Total Size (MB): 15.31\n",
            "----------------------------------------------------------------\n"
          ],
          "name": "stdout"
        }
      ]
    },
    {
      "cell_type": "code",
      "metadata": {
        "id": "zwA8L0XWUbVI",
        "outputId": "c88d9d1e-0b5b-477a-8b69-f72f1356e32d",
        "colab": {
          "base_uri": "https://localhost:8080/",
          "height": 496
        }
      },
      "source": [
        "# Artık alımlı, şekilli bir eğitim döngüsü başlatabiliriz. Her epochda kaydolan güncel durumu grafiklerde izleyin\n",
        "# GPU yu kullandığınıza emin olun\n",
        "fancy_poutyne_train(model_name='mnist3', pytorch_model=mnist3)"
      ],
      "execution_count": null,
      "outputs": [
        {
          "output_type": "display_data",
          "data": {
            "image/png": "[encoded data removed]",
            "text/plain": [
              "<Figure size 864x576 with 2 Axes>"
            ]
          },
          "metadata": {
            "tags": [],
            "needs_background": "light"
          }
        },
        {
          "output_type": "stream",
          "text": [
            "Accuracy\n",
            "\ttraining         \t (min:   80.277, max:   99.342, cur:   99.342)\n",
            "\tvalidation       \t (min:   96.292, max:   98.333, cur:   98.325)\n",
            "Loss\n",
            "\ttraining         \t (min:    0.021, max:    0.586, cur:    0.021)\n",
            "\tvalidation       \t (min:    0.060, max:    0.131, cur:    0.077)\n",
            "Epoch 00007: early stopping\n",
            "Test:\n",
            "\tLoss:  0.075\n",
            "\tAccuracy:  98.100\n"
          ],
          "name": "stdout"
        }
      ]
    },
    {
      "cell_type": "markdown",
      "metadata": {
        "id": "cxpV5o0Z-b3G"
      },
      "source": [
        "LiveLossPlot sayesinde artık tüm süslü grafikleri görebiliyoruz!\n",
        "\n",
        "_**Şimdi küçük bir deney yapabilir ve kendiniz için modelin nasıl uydurmaya başladığını görebilirsiniz. Erken Durdurma callbackini eitim döngüsünden kaldırmanız yeterli olacaktır.**_\n",
        "\n",
        "Bu kadar basit bir veri setinde bile modelin overfit olabildiğini gözlemleyebilirsiniz!\n"
      ]
    },
    {
      "cell_type": "markdown",
      "metadata": {
        "id": "DaXagq-rA8vL"
      },
      "source": [
        "###9. SONUÇ\n",
        "\n",
        "Elimizde eğitimli bir model var. Şimdi, PyTorch Modelimizin tahminlerinin tadını çıkarabileceğimiz basit bir çıkarım rutini yazmak isteyebiliriz, di mi? (:"
      ]
    },
    {
      "cell_type": "code",
      "metadata": {
        "id": "fpqrJYFZUpig"
      },
      "source": [
        "# Oldukça basit bir çıkarım rutini\n",
        "\n",
        "def inference():\n",
        "    PATH = 'mnist3_last_epoch.ckpt' # checkpoint modelin kaydı\n",
        "\n",
        "    # Load the model\n",
        "    model = MNISTModel1().to('cpu') # PyTorch modelimizi örnekleyin\n",
        "    model.load_state_dict(torch.load(PATH)) # Kaydedilmiş modeli yükleyin\n",
        "    # summary(model, (1, 28, 28), device='cpu') # Cherşey yolunda mı diye kontrol edin\n",
        "\n",
        "    # Modelimiz için bazı 'test_loader' verileri alma zamanı\n",
        "    dataiter = iter(train_loader) # Tüm batch i al\n",
        "    images, labels = dataiter.next() # görüntüleri ve etiketlerini çıkar\n",
        "    label = labels[0] # ground truthlar\n",
        "\n",
        "    # Görüntülerin biraz işlenmesi gerekiyor!\n",
        "    image = images[0] # İlk Batchten görüntüleri al = 1 x 28 x 28\n",
        "    # Modelimizin ilk boyutu 'batch size' olarak beklediğini unutmayın\n",
        "    # Bu nedenle, 'start'a bir ekstra boyut daha ekliyoruz.\n",
        "    image = torch.unsqueeze(image, dim=0) # 1 x 1 x 28 x 28 (batch_size = 1)\n",
        "    print('\\nimage.shape =>', image.shape)\n",
        "\n",
        "    # Autograd modülünü devre dışı bırakın\n",
        "    with torch.no_grad(): # eğitim yapmadığımız için gradyanları hesaplamaya gerek yok\n",
        "        # İleri yayılım yap\n",
        "        output = model.forward(image)\n",
        "\n",
        "    # Modelimiz 'logits' çıktıları, onu sınıf olasılıklarına dönüştürmemiz gerekiyor.\n",
        "    # https://discuss.pytorch.org/t/how-to-extract-probabilities/2720/12\n",
        "    # logitsleri dönüştürmeniz gerek bunun için 'Softmax' fonksiyonu kullanacağız\n",
        "    # https://medium.com/data-science-bootcamp/understand-the-softmax-function-in-minutes-f3a59641e86d\n",
        "    # Therefore,\n",
        "    class_probabilities = F.softmax(output, dim=1).numpy().squeeze()\n",
        "    print('\\nClass Probabilities ==>', class_probabilities)\n",
        "    for i, proba in enumerate(class_probabilities):\n",
        "        print(f'Class \\t{i}\\t Probability \\t{100*proba:.2f}%')\n",
        "\n",
        "    # Sonuçları sergilemenin çok süslü bir yolu\n",
        "    # iki ekseni olan bir şekil oluşturalum, ax1 and ax2\n",
        "    fig, (ax1, ax2) = plt.subplots(figsize=(6,9), ncols=2) # iki sütundan oluşsun bu grafik\n",
        "    # ax1 test datasındaki görüntü tutulsun\n",
        "    ax1.imshow(image.resize_(1, 28, 28).numpy().squeeze())\n",
        "    ax1.set_title('Ground Truth ' + str(label.numpy()))\n",
        "    # ax2 sınıf_ olasılıkları içeren yatay bir çubuk grafik tutar\n",
        "    ax2.barh(np.arange(10), class_probabilities)\n",
        "    ax2.set_aspect(0.1) # ax2 en boy oranı, aksi takdirde çok büyük olacak\n",
        "    ax2.set_yticks(np.arange(10)) # 10 sınıf için y ekseninde\n",
        "    ax2.set_yticklabels(np.arange(10)) # 0-9 etiketlerini ayarlar\n",
        "    ax2.set_title('Class Probability')\n",
        "    ax2.set_xlim(0, 1.1) #olasılık 1'den fazla olamaz, dolayısıyla sınırı 1.1 olarak ayarlayın\n",
        "\n",
        "    return None"
      ],
      "execution_count": null,
      "outputs": []
    },
    {
      "cell_type": "code",
      "metadata": {
        "id": "enklrq5uH3qi",
        "outputId": "b44bb9b9-a1ac-4bf4-a09e-f3637e7d8c5e",
        "colab": {
          "base_uri": "https://localhost:8080/",
          "height": 454
        }
      },
      "source": [
        "inference()"
      ],
      "execution_count": null,
      "outputs": [
        {
          "output_type": "stream",
          "text": [
            "\n",
            "image.shape => torch.Size([1, 1, 28, 28])\n",
            "\n",
            "Class Probabilities ==> [1.00e+00 1.89e-13 1.45e-08 1.89e-13 1.89e-13 3.16e-13 6.20e-12 1.89e-13 5.37e-13 2.05e-10]\n",
            "Class \t0\t Probability \t100.00%\n",
            "Class \t1\t Probability \t0.00%\n",
            "Class \t2\t Probability \t0.00%\n",
            "Class \t3\t Probability \t0.00%\n",
            "Class \t4\t Probability \t0.00%\n",
            "Class \t5\t Probability \t0.00%\n",
            "Class \t6\t Probability \t0.00%\n",
            "Class \t7\t Probability \t0.00%\n",
            "Class \t8\t Probability \t0.00%\n",
            "Class \t9\t Probability \t0.00%\n"
          ],
          "name": "stdout"
        },
        {
          "output_type": "display_data",
          "data": {
            "image/png": "[encoded data removed]",
            "text/plain": [
              "<Figure size 432x648 with 2 Axes>"
            ]
          },
          "metadata": {
            "tags": [],
            "needs_background": "light"
          }
        }
      ]
    },
    {
      "cell_type": "markdown",
      "metadata": {
        "id": "AAttJPwQ8O4t"
      },
      "source": [
        "_**TEBRİKLER!!!**_\n",
        "\n",
        "Derin Öğrenme Modeliniz için tam bir çıkarım döngüsü yazmış oldunuz!\n",
        "\n",
        "![Congratulations](https://media.giphy.com/media/l4HodBpDmoMA5p9bG/giphy.gif)"
      ]
    },
    {
      "cell_type": "markdown",
      "metadata": {
        "id": "iKN3ZR_Gh22S"
      },
      "source": [
        "###10. Teşekkürler!\n",
        "\n",
        "Geçtiğimiz hafta içinde [People In Data](https://www.facebook.com/peopleindata/) ve [Facebook DevC Stockholm](https://www.facebook.com/groups/devCstockholm/) ortaklığıyla düzenlenen etkinlikte **Udacity AI** mentorlerinden Pranjal ile tanışmış oldum ve harika bir webinar gerçekleştirdi. Tabi hem Pytorch'a ısınmam için hem de bu sırada meraklılarına faydalı olması adına bu notebook'u hazırlamaya karar verdim. Destek veren [Pranjal](https://www.linkedin.com/in/pranjall/?originalSubdomain=in)'a ve bu etkinlik hakkında beni haberdar ettiği için [Zümrüt](https://www.linkedin.com/in/zumrut-muftuoglu-98704537/)e teşekkürler.\n",
        "\n",
        "---\n",
        "**Daha fazla içerik için: _[Yapay Zekâ Araştırma İnisiyatifi](https://yz-ai.github.io/)_'ni de takip edebilirsiniz.**"
      ]
    },
    {
      "cell_type": "markdown",
      "metadata": {
        "id": "2KbNEwlOmLq1"
      },
      "source": [
        "_**PyTorch ile Derin Öğrenme yolculuğunuzda korkusuz olun ve sağlıkla kalın!**_\n",
        "\n",
        "![](https://media.giphy.com/media/YUTlb7DyygFMs/giphy.gif)"
      ]
    }
  ]
}